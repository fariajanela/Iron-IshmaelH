{
  "nbformat": 4,
  "nbformat_minor": 0,
  "metadata": {
    "colab": {
      "provenance": [],
      "authorship_tag": "ABX9TyO6sGszn1tsPTHk7CA4tZ2F",
      "include_colab_link": true
    },
    "kernelspec": {
      "name": "python3",
      "display_name": "Python 3"
    },
    "language_info": {
      "name": "python"
    }
  },
  "cells": [
    {
      "cell_type": "markdown",
      "metadata": {
        "id": "view-in-github",
        "colab_type": "text"
      },
      "source": [
        "<a href=\"https://colab.research.google.com/github/fariajanela/Iron-IshmaelH/blob/main/Project2025.ipynb\" target=\"_parent\"><img src=\"https://colab.research.google.com/assets/colab-badge.svg\" alt=\"Open In Colab\"/></a>"
      ]
    },
    {
      "cell_type": "code",
      "execution_count": 156,
      "metadata": {
        "colab": {
          "base_uri": "https://localhost:8080/"
        },
        "id": "Bh_6FZjZ5S1J",
        "outputId": "120cc683-2c44-4177-b454-727481e69005"
      },
      "outputs": [
        {
          "output_type": "stream",
          "name": "stdout",
          "text": [
            "Drive already mounted at /content/drive; to attempt to forcibly remount, call drive.mount(\"/content/drive\", force_remount=True).\n",
            "Files in the dataset:\n",
            "['Wright - Complaint (8-17-15).pdf', 'Wright - Demurrer (Brookside) (12-10-15).pdf', 'Wright - Demurrer - Opposition.pdf', 'Isherwood - Complaint - 2nd Amended (2-2-18).docx', \"Isherwood - Demurrer to SAC - P's & A's (3-9-18).pdf\", 'Davies - Demurrer (HWH Defs) (10-20-11) (1).pdf', 'Pastor - Demurrer to FAC (Defs) - Opposition (10-12-23).docx', 'Boone - Demurrer to Complaint (8-1-16) (1).pdf', 'Boone - Complaint - 1st Amended (11-14-16).pdf', 'Boone - Demurrer to Complaint - Opposition (9-26-16).pdf', 'Butler - Complaint - FAC (12-10-19).pdf', 'Clark - Complaint (9-20-23).pdf', 'Custodio - Complaint - 2nd Amended (4-4-24).docx', \"Custodio - Demurrer to SAC - Moving - P's & A's (5-14-24)-OCR.pdf\", 'DeGroff - Complaint (1-4-22).pdf', 'Doe Cheryl - Demurrer to Complaint - Opposition (8-16-24).docx', \"Doe Cheryl - Demurrer to Complaint - Moving - P's & A's (4-24-24)-OCR.pdf\", 'Doe, Cheryl - Complaint (2-2-24).pdf', 'Ferrari - Complaint - First Amended (filed 10-14-11).pdf', \"Ferrari - Demurrer - Opposition - P's & A's -#2 (Vitas) (FILED 11-2-12).pdf\", \"Ferrari - Demurrer - SAC - P's & A's (Vitas) (6-19-12).pdf\", 'Morgan - Complaint - First Amended (9-13-10).pdf', 'Moss - Demurrer - Notice and P&A to Third Amended Complaint (3-29-12).pdf', \"O'Connor - Demurrer - Moving - P's & A's (6-18-24).pdf\", 'Reed - Demurrer (6-7-22).pdf', 'Reed - Complaint (9-15-21).pdf', \"Richardson - Demurrer to 2nd Amended Complaint - P's & A's (3-22-16).pdf\", 'Richardson - Complaint - 2nd Amended (12-18-15).pdf', 'Rios - Complaint - 1st Amended (6-27-22).docx', 'Rios - Demurrer to FAC (Defs) - Opposition (8-2-22).docx', \"Roby - Demurrer to FAC (Bristol) - P's & A's (5-15-14).pdf\", 'Roby - Complaint - 1st Amended (4-30-14).pdf', 'Tanner - Complaint (9-2-22).pdf', 'Tu - Complaint - 3rd Amended (2-4-22).pdf', 'Young - Complaint.pdf', 'Young - Demurrer to FAC (DEFS) (10-9-15).pdf', 'Zagon - Complaint - 2nd Amended (7-1-13) (1).pdf', 'Zagon - Demurrer to FAC (Hazel Creek) - Ps&As (2-22-13).pdf', 'O_Connor - Demurrer - Opposition (7-17-24).docx', 'O_Connor - Complaint (4-5-24).docx', 'Soriano - Demurrer to Complaint - Moving  - P_s & A_s (4-11-23).pdf', 'Soriano - Complaint (12-6-22).docx', 'Tanner - Demurrer to FAC - Moving (3-21-23).pdf', 'Tanner - Demurrer to FAC - Opposition (5-24-23).docx', \"Tu - Motion to Strike 4th Amended Complaint (Hafco) - Moving - P's & A's (10-28-22).pdf\", \"Richardson - demurrer - opposition - p's & a's (9-17-14).pdf\", 'Custodio - Opp to Demurrer(9-19-2023).docx', 'Zagon - Demurrer - Hazel Creek Defendants - PsAs.docx', 'Soriano - Demurrer to Complaint - Opposition (6-14-23).docx', 'Tu - Demurrer to 4th Amended Complaint (Hafco) - Opposition (11-16-22) (1).docx', 'Young - Demurrer To FAC (All DEFS) - Opposition (12-2-15).docx', 'Walters - Demurrer to Complaint - Opposition (5-13-21).docx', \"roby - demurrer to fac (bristol) - opposition - p's & a's (8-5-14).docx\", 'Isherwood - Demurrer to SAC- Opposition (AJC) (4-4-18).docx', \"richardson - demurrer - opposition - p's & a's (9-17-14).pdf\", 'Perner - Complaint (First Amended).docx', \"Perner - D's Demurrer To First Amended Complaint - P's & A's In Opposition.docx\", \"richardson - demurrer - opposition - p's & a's (9-17-14).docx\", 'moss - complaint - third amended.docx', 'moss - demurrer - burbank defendants - opposition.docx', 'hong - demurrer - opposition.docx', 'Gordon - Complaint (First Amended).docx', \"Gordon - Demurrer & Motion To Strike to 2nd Amended Complaint - Roseville Care - P's & A's In Opposition.docx\", 'Higgs - Demurrer to TAC - Opposition - POS (6-29-22).docx', 'ferrari - demurrer - north american - opposition - psas.docx', 'fugazi - demurrer - opposition - ps & as.docx', \"davies - demurrer - kaiser - opposition - p's & a's.docx\", 'davies - complaint - first amended.docx', \"davies - demurrer - opposition - p's & a's.docx\", 'DataBaseDudensingLawFinal-12-17_be.accdb', 'Higgs - Demurrer to TAC - Opposition - POS (6-29-22).DOC', 'Custodio - Demurrer to SAC - Moving - Ps & As (5-14-24)-OCR.pdf']\n"
          ]
        }
      ],
      "source": [
        "\n",
        "# Step 1: Mount Google Drive and Verify Dataset\n",
        "# This cell mounts my Google Drive, and defines the path to the dataset,\n",
        "# and lists the files in the dataset folder to ensure everything is correctly set up.\n",
        "\n",
        "from google.colab import drive\n",
        "import os\n",
        "\n",
        "# Mounting Google Drive\n",
        "drive.mount('/content/drive')\n",
        "\n",
        "# Defined the dataset path\n",
        "dataset_path = '/content/drive/My Drive/DataSet/'\n",
        "\n",
        "# Verified files in the dataset folder\n",
        "print(\"Files in the dataset:\")\n",
        "print(os.listdir(dataset_path))\n"
      ]
    },
    {
      "cell_type": "code",
      "source": [
        "def list_files_in_folder_alphabetical(folder_path, max_files=70):\n",
        "    \"\"\"\n",
        "    Lists files sorted alphabetically, and displays the total file count.\n",
        "\n",
        "    Args:\n",
        "        folder_path (str): The path to the folder whose files need to be listed.\n",
        "        max_files (int): The maximum number of files to display (default: 70).\n",
        "\n",
        "    Returns:\n",
        "        None\n",
        "    \"\"\"\n",
        "    # Validate the folder path\n",
        "    if not os.path.exists(folder_path):\n",
        "        print(f\"Error: The folder path '{folder_path}' does not exist.\")\n",
        "        return\n",
        "\n",
        "    try:\n",
        "        # List and sort files in alphabetical order\n",
        "        all_files = sorted(\n",
        "            [f for f in os.listdir(folder_path) if os.path.isfile(os.path.join(folder_path, f))]\n",
        "        )\n",
        "        total_files = len(all_files)\n",
        "\n",
        "        # Print file count and details\n",
        "        print(f\"Total number of files in the dataset: {total_files}\")\n",
        "        print(f\"\\nFirst {min(max_files, total_files)} files (sorted alphabetically):\")\n",
        "        for file in all_files[:max_files]:\n",
        "            print(file)\n",
        "\n",
        "    except PermissionError:\n",
        "        print(f\"Error: Access denied to the folder '{folder_path}'.\")\n",
        "    except Exception as e:\n",
        "        print(f\"An unexpected error occurred: {e}\")\n",
        "\n",
        "# Run the function for the dataset folder\n",
        "list_files_in_folder_alphabetical(dataset_path)\n"
      ],
      "metadata": {
        "colab": {
          "base_uri": "https://localhost:8080/"
        },
        "id": "HcmkUmJfco71",
        "outputId": "a42068e9-49f4-4d2e-c946-d899d005b2ca"
      },
      "execution_count": 157,
      "outputs": [
        {
          "output_type": "stream",
          "name": "stdout",
          "text": [
            "Total number of files in the dataset: 72\n",
            "\n",
            "First 70 files (sorted alphabetically):\n",
            "Boone - Complaint - 1st Amended (11-14-16).pdf\n",
            "Boone - Demurrer to Complaint (8-1-16) (1).pdf\n",
            "Boone - Demurrer to Complaint - Opposition (9-26-16).pdf\n",
            "Butler - Complaint - FAC (12-10-19).pdf\n",
            "Clark - Complaint (9-20-23).pdf\n",
            "Custodio - Complaint - 2nd Amended (4-4-24).docx\n",
            "Custodio - Demurrer to SAC - Moving - P's & A's (5-14-24)-OCR.pdf\n",
            "Custodio - Demurrer to SAC - Moving - Ps & As (5-14-24)-OCR.pdf\n",
            "Custodio - Opp to Demurrer(9-19-2023).docx\n",
            "DataBaseDudensingLawFinal-12-17_be.accdb\n",
            "Davies - Demurrer (HWH Defs) (10-20-11) (1).pdf\n",
            "DeGroff - Complaint (1-4-22).pdf\n",
            "Doe Cheryl - Demurrer to Complaint - Moving - P's & A's (4-24-24)-OCR.pdf\n",
            "Doe Cheryl - Demurrer to Complaint - Opposition (8-16-24).docx\n",
            "Doe, Cheryl - Complaint (2-2-24).pdf\n",
            "Ferrari - Complaint - First Amended (filed 10-14-11).pdf\n",
            "Ferrari - Demurrer - Opposition - P's & A's -#2 (Vitas) (FILED 11-2-12).pdf\n",
            "Ferrari - Demurrer - SAC - P's & A's (Vitas) (6-19-12).pdf\n",
            "Gordon - Complaint (First Amended).docx\n",
            "Gordon - Demurrer & Motion To Strike to 2nd Amended Complaint - Roseville Care - P's & A's In Opposition.docx\n",
            "Higgs - Demurrer to TAC - Opposition - POS (6-29-22).DOC\n",
            "Higgs - Demurrer to TAC - Opposition - POS (6-29-22).docx\n",
            "Isherwood - Complaint - 2nd Amended (2-2-18).docx\n",
            "Isherwood - Demurrer to SAC - P's & A's (3-9-18).pdf\n",
            "Isherwood - Demurrer to SAC- Opposition (AJC) (4-4-18).docx\n",
            "Morgan - Complaint - First Amended (9-13-10).pdf\n",
            "Moss - Demurrer - Notice and P&A to Third Amended Complaint (3-29-12).pdf\n",
            "O'Connor - Demurrer - Moving - P's & A's (6-18-24).pdf\n",
            "O_Connor - Complaint (4-5-24).docx\n",
            "O_Connor - Demurrer - Opposition (7-17-24).docx\n",
            "Pastor - Demurrer to FAC (Defs) - Opposition (10-12-23).docx\n",
            "Perner - Complaint (First Amended).docx\n",
            "Perner - D's Demurrer To First Amended Complaint - P's & A's In Opposition.docx\n",
            "Reed - Complaint (9-15-21).pdf\n",
            "Reed - Demurrer (6-7-22).pdf\n",
            "Richardson - Complaint - 2nd Amended (12-18-15).pdf\n",
            "Richardson - Demurrer to 2nd Amended Complaint - P's & A's (3-22-16).pdf\n",
            "Richardson - demurrer - opposition - p's & a's (9-17-14).pdf\n",
            "Rios - Complaint - 1st Amended (6-27-22).docx\n",
            "Rios - Demurrer to FAC (Defs) - Opposition (8-2-22).docx\n",
            "Roby - Complaint - 1st Amended (4-30-14).pdf\n",
            "Roby - Demurrer to FAC (Bristol) - P's & A's (5-15-14).pdf\n",
            "Soriano - Complaint (12-6-22).docx\n",
            "Soriano - Demurrer to Complaint - Moving  - P_s & A_s (4-11-23).pdf\n",
            "Soriano - Demurrer to Complaint - Opposition (6-14-23).docx\n",
            "Tanner - Complaint (9-2-22).pdf\n",
            "Tanner - Demurrer to FAC - Moving (3-21-23).pdf\n",
            "Tanner - Demurrer to FAC - Opposition (5-24-23).docx\n",
            "Tu - Complaint - 3rd Amended (2-4-22).pdf\n",
            "Tu - Demurrer to 4th Amended Complaint (Hafco) - Opposition (11-16-22) (1).docx\n",
            "Tu - Motion to Strike 4th Amended Complaint (Hafco) - Moving - P's & A's (10-28-22).pdf\n",
            "Walters - Demurrer to Complaint - Opposition (5-13-21).docx\n",
            "Wright - Complaint (8-17-15).pdf\n",
            "Wright - Demurrer (Brookside) (12-10-15).pdf\n",
            "Wright - Demurrer - Opposition.pdf\n",
            "Young - Complaint.pdf\n",
            "Young - Demurrer To FAC (All DEFS) - Opposition (12-2-15).docx\n",
            "Young - Demurrer to FAC (DEFS) (10-9-15).pdf\n",
            "Zagon - Complaint - 2nd Amended (7-1-13) (1).pdf\n",
            "Zagon - Demurrer - Hazel Creek Defendants - PsAs.docx\n",
            "Zagon - Demurrer to FAC (Hazel Creek) - Ps&As (2-22-13).pdf\n",
            "davies - complaint - first amended.docx\n",
            "davies - demurrer - kaiser - opposition - p's & a's.docx\n",
            "davies - demurrer - opposition - p's & a's.docx\n",
            "ferrari - demurrer - north american - opposition - psas.docx\n",
            "fugazi - demurrer - opposition - ps & as.docx\n",
            "hong - demurrer - opposition.docx\n",
            "moss - complaint - third amended.docx\n",
            "moss - demurrer - burbank defendants - opposition.docx\n",
            "richardson - demurrer - opposition - p's & a's (9-17-14).docx\n"
          ]
        }
      ]
    },
    {
      "cell_type": "code",
      "source": [
        "import os\n",
        "\n",
        "# Define the dataset path in Google Drive\n",
        "dataset_path = \"/content/drive/My Drive/DataSet/\"\n",
        "\n",
        "# List all files in the dataset directory\n",
        "files = os.listdir(dataset_path)\n",
        "\n",
        "# Iterate through files and clean up names, previously was a mess\n",
        "#had to run a VBA macro in Word to switch word docs to .docx\n",
        "for file in files:\n",
        "    old_path = os.path.join(dataset_path, file)\n",
        "\n",
        "    # Remove double periods and fix spacing issues\n",
        "    new_file = file.replace(\"..\", \".\").strip()\n",
        "\n",
        "    # Standardize file extensions\n",
        "    if new_file.endswith(\".doc\") and not new_file.endswith(\".docx\"):\n",
        "        new_file = new_file.replace(\".doc\", \".docx\")  # Convert .doc to .docx in name only\n",
        "\n",
        "    new_path = os.path.join(dataset_path, new_file)\n",
        "\n",
        "    # Rename only if different\n",
        "    if old_path != new_path:\n",
        "        os.rename(old_path, new_path)\n",
        "        print(f\"✅ Renamed: {file} → {new_file}\")\n",
        "    else:\n",
        "        print(f\"✔️ No change needed: {file}\")\n",
        "\n",
        "print(\"\\n🎯 Filename cleanup complete!\")\n"
      ],
      "metadata": {
        "colab": {
          "base_uri": "https://localhost:8080/"
        },
        "id": "DQS8OysX_jwP",
        "outputId": "cad438af-e7dc-484f-bc8c-3277b6cd20a4"
      },
      "execution_count": 158,
      "outputs": [
        {
          "output_type": "stream",
          "name": "stdout",
          "text": [
            "✔️ No change needed: Wright - Complaint (8-17-15).pdf\n",
            "✔️ No change needed: Wright - Demurrer (Brookside) (12-10-15).pdf\n",
            "✔️ No change needed: Wright - Demurrer - Opposition.pdf\n",
            "✔️ No change needed: Isherwood - Complaint - 2nd Amended (2-2-18).docx\n",
            "✔️ No change needed: Isherwood - Demurrer to SAC - P's & A's (3-9-18).pdf\n",
            "✔️ No change needed: Davies - Demurrer (HWH Defs) (10-20-11) (1).pdf\n",
            "✔️ No change needed: Pastor - Demurrer to FAC (Defs) - Opposition (10-12-23).docx\n",
            "✔️ No change needed: Boone - Demurrer to Complaint (8-1-16) (1).pdf\n",
            "✔️ No change needed: Boone - Complaint - 1st Amended (11-14-16).pdf\n",
            "✔️ No change needed: Boone - Demurrer to Complaint - Opposition (9-26-16).pdf\n",
            "✔️ No change needed: Butler - Complaint - FAC (12-10-19).pdf\n",
            "✔️ No change needed: Clark - Complaint (9-20-23).pdf\n",
            "✔️ No change needed: Custodio - Complaint - 2nd Amended (4-4-24).docx\n",
            "✔️ No change needed: Custodio - Demurrer to SAC - Moving - P's & A's (5-14-24)-OCR.pdf\n",
            "✔️ No change needed: DeGroff - Complaint (1-4-22).pdf\n",
            "✔️ No change needed: Doe Cheryl - Demurrer to Complaint - Opposition (8-16-24).docx\n",
            "✔️ No change needed: Doe Cheryl - Demurrer to Complaint - Moving - P's & A's (4-24-24)-OCR.pdf\n",
            "✔️ No change needed: Doe, Cheryl - Complaint (2-2-24).pdf\n",
            "✔️ No change needed: Ferrari - Complaint - First Amended (filed 10-14-11).pdf\n",
            "✔️ No change needed: Ferrari - Demurrer - Opposition - P's & A's -#2 (Vitas) (FILED 11-2-12).pdf\n",
            "✔️ No change needed: Ferrari - Demurrer - SAC - P's & A's (Vitas) (6-19-12).pdf\n",
            "✔️ No change needed: Morgan - Complaint - First Amended (9-13-10).pdf\n",
            "✔️ No change needed: Moss - Demurrer - Notice and P&A to Third Amended Complaint (3-29-12).pdf\n",
            "✔️ No change needed: O'Connor - Demurrer - Moving - P's & A's (6-18-24).pdf\n",
            "✔️ No change needed: Reed - Demurrer (6-7-22).pdf\n",
            "✔️ No change needed: Reed - Complaint (9-15-21).pdf\n",
            "✔️ No change needed: Richardson - Demurrer to 2nd Amended Complaint - P's & A's (3-22-16).pdf\n",
            "✔️ No change needed: Richardson - Complaint - 2nd Amended (12-18-15).pdf\n",
            "✔️ No change needed: Rios - Complaint - 1st Amended (6-27-22).docx\n",
            "✔️ No change needed: Rios - Demurrer to FAC (Defs) - Opposition (8-2-22).docx\n",
            "✔️ No change needed: Roby - Demurrer to FAC (Bristol) - P's & A's (5-15-14).pdf\n",
            "✔️ No change needed: Roby - Complaint - 1st Amended (4-30-14).pdf\n",
            "✔️ No change needed: Tanner - Complaint (9-2-22).pdf\n",
            "✔️ No change needed: Tu - Complaint - 3rd Amended (2-4-22).pdf\n",
            "✔️ No change needed: Young - Complaint.pdf\n",
            "✔️ No change needed: Young - Demurrer to FAC (DEFS) (10-9-15).pdf\n",
            "✔️ No change needed: Zagon - Complaint - 2nd Amended (7-1-13) (1).pdf\n",
            "✔️ No change needed: Zagon - Demurrer to FAC (Hazel Creek) - Ps&As (2-22-13).pdf\n",
            "✔️ No change needed: O_Connor - Demurrer - Opposition (7-17-24).docx\n",
            "✔️ No change needed: O_Connor - Complaint (4-5-24).docx\n",
            "✔️ No change needed: Soriano - Demurrer to Complaint - Moving  - P_s & A_s (4-11-23).pdf\n",
            "✔️ No change needed: Soriano - Complaint (12-6-22).docx\n",
            "✔️ No change needed: Tanner - Demurrer to FAC - Moving (3-21-23).pdf\n",
            "✔️ No change needed: Tanner - Demurrer to FAC - Opposition (5-24-23).docx\n",
            "✔️ No change needed: Tu - Motion to Strike 4th Amended Complaint (Hafco) - Moving - P's & A's (10-28-22).pdf\n",
            "✔️ No change needed: Richardson - demurrer - opposition - p's & a's (9-17-14).pdf\n",
            "✔️ No change needed: Custodio - Opp to Demurrer(9-19-2023).docx\n",
            "✔️ No change needed: Zagon - Demurrer - Hazel Creek Defendants - PsAs.docx\n",
            "✔️ No change needed: Soriano - Demurrer to Complaint - Opposition (6-14-23).docx\n",
            "✔️ No change needed: Tu - Demurrer to 4th Amended Complaint (Hafco) - Opposition (11-16-22) (1).docx\n",
            "✔️ No change needed: Young - Demurrer To FAC (All DEFS) - Opposition (12-2-15).docx\n",
            "✔️ No change needed: Walters - Demurrer to Complaint - Opposition (5-13-21).docx\n",
            "✔️ No change needed: roby - demurrer to fac (bristol) - opposition - p's & a's (8-5-14).docx\n",
            "✔️ No change needed: Isherwood - Demurrer to SAC- Opposition (AJC) (4-4-18).docx\n",
            "✔️ No change needed: richardson - demurrer - opposition - p's & a's (9-17-14).pdf\n",
            "✔️ No change needed: Perner - Complaint (First Amended).docx\n",
            "✔️ No change needed: Perner - D's Demurrer To First Amended Complaint - P's & A's In Opposition.docx\n",
            "✔️ No change needed: richardson - demurrer - opposition - p's & a's (9-17-14).docx\n",
            "✔️ No change needed: moss - complaint - third amended.docx\n",
            "✔️ No change needed: moss - demurrer - burbank defendants - opposition.docx\n",
            "✔️ No change needed: hong - demurrer - opposition.docx\n",
            "✔️ No change needed: Gordon - Complaint (First Amended).docx\n",
            "✔️ No change needed: Gordon - Demurrer & Motion To Strike to 2nd Amended Complaint - Roseville Care - P's & A's In Opposition.docx\n",
            "✔️ No change needed: Higgs - Demurrer to TAC - Opposition - POS (6-29-22).docx\n",
            "✔️ No change needed: ferrari - demurrer - north american - opposition - psas.docx\n",
            "✔️ No change needed: fugazi - demurrer - opposition - ps & as.docx\n",
            "✔️ No change needed: davies - demurrer - kaiser - opposition - p's & a's.docx\n",
            "✔️ No change needed: davies - complaint - first amended.docx\n",
            "✔️ No change needed: davies - demurrer - opposition - p's & a's.docx\n",
            "✔️ No change needed: DataBaseDudensingLawFinal-12-17_be.accdb\n",
            "✔️ No change needed: Higgs - Demurrer to TAC - Opposition - POS (6-29-22).DOC\n",
            "✔️ No change needed: Custodio - Demurrer to SAC - Moving - Ps & As (5-14-24)-OCR.pdf\n",
            "\n",
            "🎯 Filename cleanup complete!\n"
          ]
        }
      ]
    },
    {
      "cell_type": "markdown",
      "source": [],
      "metadata": {
        "id": "P0UXq18_Mtxe"
      }
    },
    {
      "cell_type": "markdown",
      "source": [
        "## verified if results matche the chart that we are working on\n"
      ],
      "metadata": {
        "id": "HsoDpLNKrjXm"
      }
    },
    {
      "cell_type": "code",
      "source": [
        "!pip install pdfplumber python-docx  #for pdf and Word processing\n"
      ],
      "metadata": {
        "colab": {
          "base_uri": "https://localhost:8080/"
        },
        "id": "2UKWednvsvog",
        "outputId": "120e8767-73d2-4f68-a281-5b6cdf97c99f"
      },
      "execution_count": 159,
      "outputs": [
        {
          "output_type": "stream",
          "name": "stdout",
          "text": [
            "Requirement already satisfied: pdfplumber in /usr/local/lib/python3.11/dist-packages (0.11.5)\n",
            "Requirement already satisfied: python-docx in /usr/local/lib/python3.11/dist-packages (1.1.2)\n",
            "Requirement already satisfied: pdfminer.six==20231228 in /usr/local/lib/python3.11/dist-packages (from pdfplumber) (20231228)\n",
            "Requirement already satisfied: Pillow>=9.1 in /usr/local/lib/python3.11/dist-packages (from pdfplumber) (11.1.0)\n",
            "Requirement already satisfied: pypdfium2>=4.18.0 in /usr/local/lib/python3.11/dist-packages (from pdfplumber) (4.30.1)\n",
            "Requirement already satisfied: charset-normalizer>=2.0.0 in /usr/local/lib/python3.11/dist-packages (from pdfminer.six==20231228->pdfplumber) (3.4.1)\n",
            "Requirement already satisfied: cryptography>=36.0.0 in /usr/local/lib/python3.11/dist-packages (from pdfminer.six==20231228->pdfplumber) (43.0.3)\n",
            "Requirement already satisfied: lxml>=3.1.0 in /usr/local/lib/python3.11/dist-packages (from python-docx) (5.3.0)\n",
            "Requirement already satisfied: typing-extensions>=4.9.0 in /usr/local/lib/python3.11/dist-packages (from python-docx) (4.12.2)\n",
            "Requirement already satisfied: cffi>=1.12 in /usr/local/lib/python3.11/dist-packages (from cryptography>=36.0.0->pdfminer.six==20231228->pdfplumber) (1.17.1)\n",
            "Requirement already satisfied: pycparser in /usr/local/lib/python3.11/dist-packages (from cffi>=1.12->cryptography>=36.0.0->pdfminer.six==20231228->pdfplumber) (2.22)\n"
          ]
        }
      ]
    },
    {
      "cell_type": "code",
      "source": [
        "import os\n",
        "import pdfplumber\n",
        "from docx import Document\n",
        "\n",
        "def extract_text_from_file(file_path):\n",
        "    \"\"\"\n",
        "    Extracts text from PDF and DOCX files.\n",
        "\n",
        "    Args:\n",
        "        file_path (str): Path to the file to process.\n",
        "\n",
        "    Returns:\n",
        "        str: Extracted text content from the file, or an empty string if an error occurs.\n",
        "    \"\"\"\n",
        "    # Ensure the file exists\n",
        "    if not os.path.exists(file_path):\n",
        "        print(f\"Error: File '{file_path}' does not exist.\")\n",
        "        return ''\n",
        "\n",
        "    try:\n",
        "        if file_path.endswith('.pdf'):\n",
        "            # Process PDF files\n",
        "            text = ''\n",
        "            with pdfplumber.open(file_path) as pdf:\n",
        "                for page in pdf.pages:\n",
        "                    page_text = page.extract_text()\n",
        "                    if page_text:\n",
        "                        text += page_text\n",
        "            return text\n",
        "\n",
        "        elif file_path.endswith('.docx'):\n",
        "            # Process DOCX files\n",
        "            doc = Document(file_path)\n",
        "            return '\\n'.join(para.text for para in doc.paragraphs)\n",
        "\n",
        "        else:\n",
        "            print(f\"Unsupported file type: {file_path}\")\n",
        "            return ''\n",
        "\n",
        "    except Exception as e:\n",
        "        print(f\"Error processing file {file_path}: {e}\")\n",
        "        return ''\n"
      ],
      "metadata": {
        "id": "DEPSUcthdvgF"
      },
      "execution_count": 160,
      "outputs": []
    },
    {
      "cell_type": "code",
      "source": [
        "# Test text extraction from a file in the dataset\n",
        "file_to_test = os.path.join(dataset_path, \"Custodio - Demurrer to SAC - Moving - P's & A's (5-14-24)-OCR.pdf\")\n",
        "\n",
        "# Extract and verify text content\n",
        "extracted_text = extract_text_from_file(file_to_test)\n",
        "\n",
        "if extracted_text:\n",
        "    print(\"Extracted text sample (first 1000 characters):\")\n",
        "    print(extracted_text[:1000])  # Print the first 1000 characters for review\n",
        "else:\n",
        "    print(f\"No text extracted from file '{file_to_test}'.\")\n"
      ],
      "metadata": {
        "colab": {
          "base_uri": "https://localhost:8080/"
        },
        "id": "yEvDVXcseO-1",
        "outputId": "698e817b-4ff1-4419-b3a9-b25a006dfdf1"
      },
      "execution_count": 161,
      "outputs": [
        {
          "output_type": "stream",
          "name": "stdout",
          "text": [
            "Extracted text sample (first 1000 characters):\n",
            "1\n",
            "2\n",
            "3\n",
            "4\n",
            "5\n",
            "6\n",
            "7\n",
            "8\n",
            "9\n",
            "10\n",
            "11\n",
            "12\n",
            "13\n",
            "14\n",
            "15\n",
            "16\n",
            "17\n",
            "18\n",
            "19\n",
            "20\n",
            "21\n",
            "22\n",
            "23\n",
            "24\n",
            "25\n",
            "26\n",
            "27\n",
            "28\n",
            "-1-\n",
            "DEFENDANTS’ MEMORANDUM IN SUPPORT OF DEMURRER TO SECOND AMENDED COMPLAINT\n",
            "PLL\n",
            ",inahkusnaM\n",
            "yllucS\n",
            "seeR\n",
            "nodroG\n",
            "002\n",
            "etiuS\n",
            ",evirD\n",
            "retneckraP\n",
            "3\n",
            "52859\n",
            "AC\n",
            ",otnemarcaS\n",
            "LINDA H. MULLANY (SBN: 145301)\n",
            "lmullany@grsm.com\n",
            "LINDSEY M. ROMANO (SBN: 337600)\n",
            "lromano@grsm.com\n",
            "JENNIFER E. PAEZ (SBN: 255864)\n",
            "jpaez@grsm.com\n",
            "GORDON REES SCULLY MANSUKHANI, LLP\n",
            "3 Parkcenter Drive, Suite 200\n",
            "Sacramento, CA 95825\n",
            "Telephone: (619) 230-7412\n",
            "Facsimile: (916) 920-4402\n",
            "Attorneys for Defendants\n",
            "BRIUS, LLC; BRIUS MANAGEMENT CO.; ROCKPORT HEALTHCARE SUPPORT\n",
            "SERVICES, LLC; ROCKPORT ADMINISTRATIVE SERVICES, LLC; SAN MATEO\n",
            "WELLNESS GP, LLC; SAN MATEO HEALTHCARE & WELLNESS CENTRE, LP;\n",
            "COUNTY OF SAN MATEO; CHESTER KUNNAPPILLY; NORA DE LEON; BRYAN\n",
            "GUILLERMO; SHIRLEY FALLER KRISTINE GUILLERMO and SHLOMO RECHNITZ\n",
            "JOHN D. NIBBELIN, COUNTY COUNSEL (SBN 184603)\n",
            "jnibbelin@smcgov.org\n",
            "PAUL S. SHENG, DEPUTY (SBN 199785)\n",
            "psheng@smcgov.org\n",
            "CRAIG N. BAUMGARTNE\n"
          ]
        }
      ]
    },
    {
      "cell_type": "markdown",
      "source": [
        "# Noted a lot of empty space and useless numbers and some formatting noise.\n",
        "For this created a function to clean the text:\n",
        "    Cleans extracted text by:\n",
        "    1. Removing line numbers at the start of lines.\n",
        "    2. Removing extra blank lines.\n",
        "    3. Remove caption pages, and attorney information\n",
        "    4. Focus on the relevant sections from what was indicated in the chart\n",
        " Args: text (str): The raw extracted text.\n",
        " Returns:str: Cleaned text.\n",
        "\n",
        " Function:\n",
        "    Removes all text before the first occurrence of any keyword in start_keywords.\n",
        "    Args:text (str): The raw extracted text.\n",
        "         start_keywords (list): Keywords indicating the start of relevant content.\n",
        "    Returns:\n",
        "        str: Text starting from the first occurrence of a relevant keyword.\n",
        "\n",
        "    "
      ],
      "metadata": {
        "id": "bOSJ3LDQuwfj"
      }
    },
    {
      "cell_type": "code",
      "source": [
        "import re\n",
        "\n",
        "def remove_caption_page(text, start_keywords, case_insensitive=True):\n",
        "    for keyword in start_keywords:\n",
        "        pattern = re.escape(keyword)\n",
        "        flags = re.IGNORECASE if case_insensitive else 0\n",
        "        match = re.search(pattern, text, flags)\n",
        "        if match:\n",
        "            return text[match.start():]  # Return text starting from the keyword\n",
        "    return text\n"
      ],
      "metadata": {
        "id": "zNWx9-Nbfa-4"
      },
      "execution_count": 162,
      "outputs": []
    },
    {
      "cell_type": "code",
      "source": [
        "# Define keywords that typically mark the start of substantive content in these briefs\n",
        "start_keywords = [\n",
        "    \"INTRODUCTION\",\n",
        "    \"FACTUAL BACKGROUND\",\n",
        "    \"LEGAL ARGUMENT\",\n",
        "    \"ARGUMENT\",\n",
        "    \"STATEMENT OF FACTS\"\n",
        "]\n",
        "\n",
        "# Remove the caption page from the extracted text\n",
        "cleaned_text = remove_caption_page(extracted_text, start_keywords)\n",
        "\n",
        "# Print first 1000 characters to verify if the caption page was removed\n",
        "print(\"Cleaned text sample (first 1000 characters):\\n\")\n",
        "print(cleaned_text[:1000])"
      ],
      "metadata": {
        "colab": {
          "base_uri": "https://localhost:8080/"
        },
        "id": "TK36HzRYg8qL",
        "outputId": "3e71ed3b-339a-4246-fb5c-6f2eb6111d1b"
      },
      "execution_count": 163,
      "outputs": [
        {
          "output_type": "stream",
          "name": "stdout",
          "text": [
            "Cleaned text sample (first 1000 characters):\n",
            "\n",
            "INTRODUCTION\n",
            "Defendants BRIUS, LLC; BRIUS MANAGEMENT CO.; ROCKPORT HEALTHCARE\n",
            "SUPPORT SERVICES, LLC; ROCKPORT ADMINISTRATIVE SERVICES, LLC; SAN\n",
            "MATEO WELLNESS GP, LLC; SAN MATEO HEALTHCARE & WELLNESS CENTRE, LP;\n",
            "COUNTY OF SAN MATEO; CHESTER KUNNAPPILLY; NORA DE LEON; BRYAN\n",
            "GUILLERMO; SHIRLEY FALLER KRISTINE GUILLERMO and SHLOMO RECHNITZ\n",
            "(herein after “Defendants”) demurrer to the third cause of action for negligence, (custodial)\n",
            "fourth cause of action for constructive fraud, fifth cause of action for negligent infliction of\n",
            "emotional distress and sixth cause of action for wrongful death pleaded in Plaintiffs’ Second\n",
            "Amended Complaint (“SAC”)1.\n",
            "As detailed below, Defendants’ demurrer to Plaintiffs’ third cause of action for\n",
            "Negligence, fourth cause of action for Constructive Fraud, fifth cause of action for Negligent\n",
            "Infliction of Emotional Distress, and sixth cause of action for Wrongful Death should be\n",
            "sustained because the County has public entity immunity and Plaintiffs fail to cite\n"
          ]
        }
      ]
    },
    {
      "cell_type": "code",
      "source": [
        "# Print a sample of the cleaned text (first 2000 characters)\n",
        "print(\"Cleaned text sample (first 2000 characters):\\n\")\n",
        "print(cleaned_text[:2000])\n",
        "\n",
        "# Verify if \"INTRODUCTION\" or any expected section headers are present early on\n",
        "if \"INTRODUCTION\" in cleaned_text[:200]:\n",
        "    print(\"\\n✅ 'INTRODUCTION' appears early in the text as expected.\")\n",
        "else:\n",
        "    print(\"\\n⚠️ 'INTRODUCTION' was not found early in the text. Check for any remaining caption text.\")\n",
        "\n",
        "# Count the total number of characters in cleaned text\n",
        "print(f\"\\nTotal length of cleaned text: {len(cleaned_text)} characters\")\n"
      ],
      "metadata": {
        "colab": {
          "base_uri": "https://localhost:8080/"
        },
        "id": "-y6OUS0Xhx2e",
        "outputId": "cfd10680-bf1e-4275-cb0c-867b01352d85"
      },
      "execution_count": 164,
      "outputs": [
        {
          "output_type": "stream",
          "name": "stdout",
          "text": [
            "Cleaned text sample (first 2000 characters):\n",
            "\n",
            "INTRODUCTION\n",
            "Defendants BRIUS, LLC; BRIUS MANAGEMENT CO.; ROCKPORT HEALTHCARE\n",
            "SUPPORT SERVICES, LLC; ROCKPORT ADMINISTRATIVE SERVICES, LLC; SAN\n",
            "MATEO WELLNESS GP, LLC; SAN MATEO HEALTHCARE & WELLNESS CENTRE, LP;\n",
            "COUNTY OF SAN MATEO; CHESTER KUNNAPPILLY; NORA DE LEON; BRYAN\n",
            "GUILLERMO; SHIRLEY FALLER KRISTINE GUILLERMO and SHLOMO RECHNITZ\n",
            "(herein after “Defendants”) demurrer to the third cause of action for negligence, (custodial)\n",
            "fourth cause of action for constructive fraud, fifth cause of action for negligent infliction of\n",
            "emotional distress and sixth cause of action for wrongful death pleaded in Plaintiffs’ Second\n",
            "Amended Complaint (“SAC”)1.\n",
            "As detailed below, Defendants’ demurrer to Plaintiffs’ third cause of action for\n",
            "Negligence, fourth cause of action for Constructive Fraud, fifth cause of action for Negligent\n",
            "Infliction of Emotional Distress, and sixth cause of action for Wrongful Death should be\n",
            "sustained because the County has public entity immunity and Plaintiffs fail to cite to appropriate\n",
            "statutes under which the County may be liable for these causes of action. Defendants’ demurrer\n",
            "to Plaintiffs’ fourth cause of action for Constructive Fraud should be sustained for all Defendants\n",
            "because there was no fiduciary duty imposed by law or contract between any defendant and\n",
            "Rosario Custodio and the cause of action is adequately pled.\n",
            "II. SUMMARY OF FACTUAL ALLEGATIONS\n",
            "Plaintiffs allege the Facility, defendants and their employees engaged in a repeated and\n",
            "ongoing pattern of failing to ensure Rosario was provided with the basic custodial care (SAC\n",
            "¶ 42). Plaintiffs also allege that decedent suffered a change of condition to her nutrition and\n",
            "hydration where she was not consuming sufficient foods and liquids and that the Facility failed\n",
            "to take action in response to this change of condition. (SAC ¶ 43.) The SAC further alleges that\n",
            "the Facility: failed to provide sufficient staff and bedside care to make sure decedent started\n",
            "eating and drinking again; did not as\n",
            "\n",
            "✅ 'INTRODUCTION' appears early in the text as expected.\n",
            "\n",
            "Total length of cleaned text: 24055 characters\n"
          ]
        }
      ]
    },
    {
      "cell_type": "code",
      "source": [
        "import json\n",
        "\n",
        "# Define the output JSON filename\n",
        "json_filename = \"Custodio_Cleaned_Text.json\"\n",
        "\n",
        "# Structure the data\n",
        "data = {\n",
        "    \"file_name\": \"Custodio - Demurrer to SAC - Moving - Ps & As (5-14-24)-OCR.pdf\",\n",
        "    \"cleaned_text\": cleaned_text\n",
        "}\n",
        "\n",
        "# Save to JSON\n",
        "with open(json_filename, 'w', encoding='utf-8') as file:\n",
        "    json.dump(data, file, indent=4, ensure_ascii=False)\n",
        "\n",
        "print(f\"\\n✅ Cleaned text successfully saved to {json_filename}\")\n"
      ],
      "metadata": {
        "colab": {
          "base_uri": "https://localhost:8080/"
        },
        "id": "h7g6x6G9ixYE",
        "outputId": "72b3d25d-04fb-43ca-e827-2e587614e730"
      },
      "execution_count": 165,
      "outputs": [
        {
          "output_type": "stream",
          "name": "stdout",
          "text": [
            "\n",
            "✅ Cleaned text successfully saved to Custodio_Cleaned_Text.json\n"
          ]
        }
      ]
    },
    {
      "cell_type": "code",
      "source": [
        "#move to google drive\n",
        "import shutil\n",
        "\n",
        "drive_path = \"/content/drive/My Drive/\"\n",
        "shutil.move(\"/content/Custodio_Cleaned_Text.json\", drive_path + \"Custodio_Cleaned_Text.json\")\n",
        "\n",
        "print(\"File moved to Google Drive:\", drive_path + \"Custodio_Cleaned_Text.json\")\n"
      ],
      "metadata": {
        "colab": {
          "base_uri": "https://localhost:8080/"
        },
        "id": "ikQObGcgj5qR",
        "outputId": "d77a022b-f81a-48c0-ba65-d1148b17a428"
      },
      "execution_count": 166,
      "outputs": [
        {
          "output_type": "stream",
          "name": "stdout",
          "text": [
            "File moved to Google Drive: /content/drive/My Drive/Custodio_Cleaned_Text.json\n"
          ]
        }
      ]
    },
    {
      "cell_type": "code",
      "source": [
        "# Define start keywords for removing the caption\n",
        "start_keywords = [\n",
        "    \"INTRODUCTION\",\n",
        "    \"STATEMENT OF FACTS\",\n",
        "    \"SUMMARY OF FACTUAL ALLEGATIONS\",\n",
        "    \"LEGAL ARGUMENT\"\n",
        "]\n",
        "\n",
        "# Clean the extracted texts\n",
        "soriano_demurrer_cleaned = remove_caption_page(soriano_demurrer_text, start_keywords)\n",
        "soriano_opposition_cleaned = remove_caption_page(soriano_opposition_text, start_keywords)\n",
        "\n",
        "# Print cleaned samples\n",
        "print(\"\\nCleaned Soriano Demurrer Text:\\n\")\n",
        "print(soriano_demurrer_cleaned[:2000])\n",
        "\n",
        "print(\"\\nCleaned Soriano Opposition Text:\\n\")\n",
        "print(soriano_opposition_cleaned[:2000])\n"
      ],
      "metadata": {
        "colab": {
          "base_uri": "https://localhost:8080/"
        },
        "id": "KcoUkQuLlX2l",
        "outputId": "6b5c7f8e-3be4-4401-8f7f-85fe16b8dfa5"
      },
      "execution_count": 167,
      "outputs": [
        {
          "output_type": "stream",
          "name": "stdout",
          "text": [
            "\n",
            "Cleaned Soriano Demurrer Text:\n",
            "\n",
            "INTRODUCTION\n",
            "2\n",
            "With this motion, Defendants’ demurrer to Plaintiffs’ Fourth Cause of Action for Fraud\n",
            "3\n",
            "(Constructive) and Sixth Cause of Action for Negligent Infliction of Emotional Distress. The\n",
            "4\n",
            "areas of care Plaintiffs identify in their Complaint are a single fall experienced by decedent\n",
            "5\n",
            "Consorcia Soriano, dehydration, malnutrition and pressure injuries. As demonstrated below,\n",
            "6\n",
            "the demurrer should be sustained without leave to amend Plaintiffs’ Complaint because the\n",
            "7\n",
            "8 allegations are insufficient to maintain the causes of action against Defendants.\n",
            "9 II. PLAINTIFF’S ALLEGATIONS\n",
            "10\n",
            "A. Fraud Allegations\n",
            "P\n",
            "11\n",
            "Plaintiffs’ Fraud (Constructive) Cause of Action is alleged by Consorcia Soriano by-and-\n",
            "L\n",
            "L\n",
            "ani, 2000\n",
            "11\n",
            "12\n",
            "through her successor-in- interest Estrellita Jotie. It is alleged that Ms. Soriano was dependent\n",
            "nsukh Suite\n",
            "A\n",
            "941 13\n",
            "upon Defendants for custodial care and meeting her daily living and health and safety needs\n",
            "y\n",
            "Ma reet,\n",
            "co,\n",
            "C 14\n",
            "cull\n",
            "y\n",
            "St ncis\n",
            "15\n",
            "when she resided at Greenfield Care Center from November 9, 2019 to December 25, 2021.\n",
            "Sra\n",
            "Rees Batte\n",
            "n\n",
            "Fr\n",
            "16 Complaint ¶70. It is further alleged that Plaintiffs trusted Defendants to faithfully fulfill and\n",
            "n 5\n",
            "Sa\n",
            "do 27 17 observe their custodial duties and act on Ms. Soriano’s behalf for purposes of providing her care\n",
            "r\n",
            "o\n",
            "G\n",
            "18\n",
            "and assistance to meet her daily living and health and safety needs. Id. Plaintiffs further allege:\n",
            "19\n",
            "71. Defendants accepted Ms. Soriano as a resident, accepted her trust\n",
            "20 and confidence, and accepted the fiduciary relationship which was then and there\n",
            "created.\n",
            "21 72. By virtue of the relationship between Ms. Soriano and defendants,\n",
            "a fiduciary duty existed relating to the care, comfort, safety, and health of Ms.\n",
            "22\n",
            "Soriano and the disposition and use of money paid on behalf of Ms. Soriano for\n",
            "her proper care. Pursuant to their duty, defendants owed the utmost good faith and\n",
            "23\n",
            "fairness to Ms. Soriano in all matters pertaining to her health, care, and comfort,\n",
            "24 and relatin\n",
            "\n",
            "Cleaned Soriano Opposition Text:\n",
            "\n",
            "\n"
          ]
        }
      ]
    },
    {
      "cell_type": "code",
      "source": [
        "#results above are not right (or the same as Custodio), try this function to further clean\n",
        "import re\n",
        "\n",
        "def clean_text_formatting(text):\n",
        "    \"\"\"\n",
        "    Cleans up extracted text by:\n",
        "    - Removing isolated numbers that are likely page/line numbers.\n",
        "    - Fixing broken words and improper line breaks inside sentences.\n",
        "    - Removing any lingering formatting artifacts.\n",
        "\n",
        "    Args:\n",
        "        text (str): The extracted text from the document.\n",
        "\n",
        "    Returns:\n",
        "        str: The cleaned text with proper formatting.\n",
        "    \"\"\"\n",
        "    # Remove standalone numbers (often line numbers in legal documents)\n",
        "    text = re.sub(r'\\n\\d+\\n', '\\n', text)\n",
        "\n",
        "    # Fix broken words by merging hyphenated words split across lines\n",
        "    text = re.sub(r'-\\n', '', text)\n",
        "\n",
        "    # Remove excessive newlines within paragraphs\n",
        "    text = re.sub(r'(?<!\\n)\\n(?!\\n)', ' ', text)  # Replace single newlines with spaces\n",
        "\n",
        "    # Normalize spacing\n",
        "    text = re.sub(r'\\s+', ' ', text).strip()\n",
        "    return text\n",
        "\n",
        "\n"
      ],
      "metadata": {
        "id": "h9T_MIu6mmY3"
      },
      "execution_count": 168,
      "outputs": []
    },
    {
      "cell_type": "code",
      "source": [
        "# result is much better but still not quite right\n",
        "soriano_demurrer_final = clean_text_formatting(soriano_demurrer_cleaned)\n",
        "soriano_opposition_final = clean_text_formatting(soriano_opposition_cleaned)\n",
        "\n",
        "# Print sample output\n",
        "print(\"\\nFinal Cleaned Soriano Demurrer Text:\\n\")\n",
        "print(soriano_demurrer_final[:2000])\n",
        "\n",
        "print(\"\\nFinal Cleaned Soriano Opposition Text:\\n\")\n",
        "print(soriano_opposition_final[:2000])\n"
      ],
      "metadata": {
        "colab": {
          "base_uri": "https://localhost:8080/"
        },
        "id": "WiCtj_Q1pj4F",
        "outputId": "21b4ddb0-68a4-46b5-e15c-d8f1cf1089c3"
      },
      "execution_count": 169,
      "outputs": [
        {
          "output_type": "stream",
          "name": "stdout",
          "text": [
            "\n",
            "Final Cleaned Soriano Demurrer Text:\n",
            "\n",
            "INTRODUCTION With this motion, Defendants’ demurrer to Plaintiffs’ Fourth Cause of Action for Fraud (Constructive) and Sixth Cause of Action for Negligent Infliction of Emotional Distress. The areas of care Plaintiffs identify in their Complaint are a single fall experienced by decedent Consorcia Soriano, dehydration, malnutrition and pressure injuries. As demonstrated below, the demurrer should be sustained without leave to amend Plaintiffs’ Complaint because the 8 allegations are insufficient to maintain the causes of action against Defendants. 9 II. PLAINTIFF’S ALLEGATIONS A. Fraud Allegations P Plaintiffs’ Fraud (Constructive) Cause of Action is alleged by Consorcia Soriano by-andL L ani, 2000 12 through her successor-in- interest Estrellita Jotie. It is alleged that Ms. Soriano was dependent nsukh Suite A 941 13 upon Defendants for custodial care and meeting her daily living and health and safety needs y Ma reet, co, C 14 cull y St ncis when she resided at Greenfield Care Center from November 9, 2019 to December 25, 2021. Sra Rees Batte n Fr 16 Complaint ¶70. It is further alleged that Plaintiffs trusted Defendants to faithfully fulfill and n 5 Sa do 27 17 observe their custodial duties and act on Ms. Soriano’s behalf for purposes of providing her care r o G and assistance to meet her daily living and health and safety needs. Id. Plaintiffs further allege: 71. Defendants accepted Ms. Soriano as a resident, accepted her trust 20 and confidence, and accepted the fiduciary relationship which was then and there created. 21 72. By virtue of the relationship between Ms. Soriano and defendants, a fiduciary duty existed relating to the care, comfort, safety, and health of Ms. Soriano and the disposition and use of money paid on behalf of Ms. Soriano for her proper care. Pursuant to their duty, defendants owed the utmost good faith and fairness to Ms. Soriano in all matters pertaining to her health, care, and comfort, 24 and relating to use of the money paid on her beha\n",
            "\n",
            "Final Cleaned Soriano Opposition Text:\n",
            "\n",
            "\n"
          ]
        }
      ]
    },
    {
      "cell_type": "code",
      "source": [
        "if \"INTRODUCTION\" in soriano_opposition_cleaned[:200]:\n",
        "    print(\"\\n✅ 'INTRODUCTION' appears early in the opposition text as expected.\")\n",
        "else:\n",
        "    print(\"\\n⚠️ 'INTRODUCTION' was not found early in the opposition text. Check for any remaining caption text.\")\n"
      ],
      "metadata": {
        "colab": {
          "base_uri": "https://localhost:8080/"
        },
        "id": "T7n1Po2RldVR",
        "outputId": "fa171666-42b4-4f6f-dcf4-43cbd582b297"
      },
      "execution_count": 170,
      "outputs": [
        {
          "output_type": "stream",
          "name": "stdout",
          "text": [
            "\n",
            "⚠️ 'INTRODUCTION' was not found early in the opposition text. Check for any remaining caption text.\n"
          ]
        }
      ]
    },
    {
      "cell_type": "markdown",
      "source": [
        "The parsing is not correctly identifying the start of the opposition text, resulting in the omission of 'INTRODUCTION.' This may be due to differences in file formats—one document is a PDF while the other is a Word (.doc/.docx) file. To troubleshoot, I will process them separately to see if that resolves the issue."
      ],
      "metadata": {
        "id": "Lo79tIpTu4D6"
      }
    },
    {
      "cell_type": "code",
      "source": [
        "# Define the demurrer PDF path\n",
        "soriano_demurrer_path = '/content/drive/My Drive/DataSet/Soriano - Demurrer to Complaint - Moving  - P_s & A_s (4-11-23).pdf'\n",
        "\n",
        "# Extract text from the PDF\n",
        "soriano_demurrer_text = extract_text_from_file(soriano_demurrer_path)\n",
        "\n",
        "# Print a preview\n",
        "print(\"Extracted Soriano Demurrer Text:\\n\")\n",
        "print(soriano_demurrer_text[:2000])  # Print first 2000 characters\n"
      ],
      "metadata": {
        "colab": {
          "base_uri": "https://localhost:8080/"
        },
        "id": "JT4ZmXCGvy2o",
        "outputId": "886cf69d-681b-4248-b6c7-37f5306a24af"
      },
      "execution_count": 171,
      "outputs": [
        {
          "output_type": "stream",
          "name": "stdout",
          "text": [
            "Extracted Soriano Demurrer Text:\n",
            "\n",
            "FlL ED/END O^S ED\n",
            "1 LINDSEY M. ROMANO (SBN: 337600)\n",
            "lromano@grsm.com APR 1 1 2023\n",
            "2 ERNIE D. MEJIA (SBN: 327759)\n",
            "emejia@grsm.com\n",
            "3 GORDON REES SCULLY MANSUKHANI, LLP BBvv::.. p. Vue\n",
            "275 Battery Street, Suite 2000 Deputy Clerk\n",
            "4 San Francisco, CA 94111\n",
            "Telephone: (415) 875-4126\n",
            "5 Facsimile: (415)986-8054\n",
            "6 Attomeys for Defendants, GREENFIELD CARE CENTER OF FAIRFIELD, LLC; EVA\n",
            "CARE, LLC; EVERGREEN INTERNATIONAL GROUP, LLC; JENQ HORNG CHEN; TZE-\n",
            "7 YUU CHEN; HEATHER YVONNE REEVES\n",
            "8\n",
            "SUPERIOR COURT OF CALIFORNIA\n",
            "9\n",
            "COUNTY OF SACRAMENTO\n",
            "10\n",
            "CONSORCIA SORIANO, by and through her CASE NO. 34-2022-00330960\n",
            "11\n",
            "successor-in-interest, ESTRELLITA JOTEE,\n",
            "a.\n",
            "ESTRELLITA JOTIE, individually; OSCAR MEMORANDUM OF POINTS AND\n",
            ".J 12\n",
            "JOTEE, individually; ROLAND JOTIE, AUTHORITIES IN SUPPORT OF\n",
            "1» -\n",
            "individually; LUCILA BARRERAS, DEMURRER\n",
            "13\n",
            "S a 5 individually; JOCELYN JOTIE, individually;\n",
            "CHERRY MANGAMPAT, individually; Hearing Date: June 28, 2023\n",
            "a t» -< 14\n",
            "« *r U MARIANO MANGAMPAT, individually; Time: 9:00 a.m.\n",
            "^ a* o MARIE WHITE, individually; HAYDEE Department: 54\n",
            "15\n",
            "HWANG, individually; JAY SALINAS, Reservation No: 2721618\n",
            "S 2 individually; DENNIS SALINAS,\n",
            "u a _ 16 individually; ANTHONY SALINAS, Complaint Filed: December 6, 2022\n",
            "OS M g\n",
            "g ^ individually; JENNYROSE ARVIZU, Trial Date: None Set\n",
            "17 individually, OP\n",
            "•D «^\n",
            "u\n",
            "o\n",
            "18\n",
            "Plainfiffs,\n",
            "19\n",
            "vs.\n",
            "20\n",
            "GREENFIELD CARE CENTER OF\n",
            "FAIRFIELD, LLC; EVA CARE, LLC;\n",
            "21\n",
            "EVERGREEN INTERNATIONAL GROUP,\n",
            "LLC; JENQ HORNG CHEN; TZE-YUU\n",
            "22\n",
            "CHEN; HEATHER YVONNE REEVES; and\n",
            "DOES 1 through 50, inclusive.\n",
            "23\n",
            "Defendants,\n",
            "24\n",
            "and\n",
            "25\n",
            "MANUEL JOTIE; and BENJAMIN JOTIE,\n",
            "26\n",
            "Heir Defendants.\n",
            "27\n",
            "28\n",
            "-1-\n",
            "MEMORANDUM OF POINTS AND AUTHORITIES IN SUPPORT OF DEMURRER1 I. INTRODUCTION\n",
            "2\n",
            "With this motion, Defendants’ demurrer to Plaintiffs’ Fourth Cause of Action for Fraud\n",
            "3\n",
            "(Constructive) and Sixth Cause of Action for Negligent Infliction of Emotional Distress. The\n",
            "4\n",
            "areas of care Plaintiffs identify in their Complaint are a single fall experienced by decedent\n",
            "5\n",
            "Consorcia Soriano\n"
          ]
        }
      ]
    },
    {
      "cell_type": "markdown",
      "source": [],
      "metadata": {
        "id": "Hyxp5-8_z8Os"
      }
    },
    {
      "cell_type": "markdown",
      "source": [
        "##very happy with the results and they are in line with Custodio"
      ],
      "metadata": {
        "id": "Xxlu-qLkz9c2"
      }
    },
    {
      "cell_type": "code",
      "source": [
        "# Define common keywords that indicate the start of arguments\n",
        "demurrer_start_keywords = [\"INTRODUCTION\", \"I. INTRODUCTION\"]\n",
        "\n",
        "# Apply function to remove the caption\n",
        "soriano_demurrer_cleaned = remove_caption_page(soriano_demurrer_text, demurrer_start_keywords)\n",
        "\n",
        "# Check if \"INTRODUCTION\" appears early\n",
        "if \"INTRODUCTION\" in soriano_demurrer_cleaned[:200]:\n",
        "    print(\"\\n✅ 'INTRODUCTION' appears early in the demurrer text as expected.\")\n",
        "else:\n",
        "    print(\"\\n⚠️ 'INTRODUCTION' was not found early in the demurrer text. Check for any remaining caption text.\")\n",
        "\n",
        "# Print cleaned output preview\n",
        "print(\"\\nCleaned Soriano Demurrer Text:\\n\")\n",
        "print(soriano_demurrer_cleaned[:2000])\n"
      ],
      "metadata": {
        "colab": {
          "base_uri": "https://localhost:8080/"
        },
        "id": "NwADGgUEwWdm",
        "outputId": "fce84513-3a34-4787-9b8e-c2c299d70a79"
      },
      "execution_count": 172,
      "outputs": [
        {
          "output_type": "stream",
          "name": "stdout",
          "text": [
            "\n",
            "✅ 'INTRODUCTION' appears early in the demurrer text as expected.\n",
            "\n",
            "Cleaned Soriano Demurrer Text:\n",
            "\n",
            "INTRODUCTION\n",
            "2\n",
            "With this motion, Defendants’ demurrer to Plaintiffs’ Fourth Cause of Action for Fraud\n",
            "3\n",
            "(Constructive) and Sixth Cause of Action for Negligent Infliction of Emotional Distress. The\n",
            "4\n",
            "areas of care Plaintiffs identify in their Complaint are a single fall experienced by decedent\n",
            "5\n",
            "Consorcia Soriano, dehydration, malnutrition and pressure injuries. As demonstrated below,\n",
            "6\n",
            "the demurrer should be sustained without leave to amend Plaintiffs’ Complaint because the\n",
            "7\n",
            "8 allegations are insufficient to maintain the causes of action against Defendants.\n",
            "9 II. PLAINTIFF’S ALLEGATIONS\n",
            "10\n",
            "A. Fraud Allegations\n",
            "P\n",
            "11\n",
            "Plaintiffs’ Fraud (Constructive) Cause of Action is alleged by Consorcia Soriano by-and-\n",
            "L\n",
            "L\n",
            "ani, 2000\n",
            "11\n",
            "12\n",
            "through her successor-in- interest Estrellita Jotie. It is alleged that Ms. Soriano was dependent\n",
            "nsukh Suite\n",
            "A\n",
            "941 13\n",
            "upon Defendants for custodial care and meeting her daily living and health and safety needs\n",
            "y\n",
            "Ma reet,\n",
            "co,\n",
            "C 14\n",
            "cull\n",
            "y\n",
            "St ncis\n",
            "15\n",
            "when she resided at Greenfield Care Center from November 9, 2019 to December 25, 2021.\n",
            "Sra\n",
            "Rees Batte\n",
            "n\n",
            "Fr\n",
            "16 Complaint ¶70. It is further alleged that Plaintiffs trusted Defendants to faithfully fulfill and\n",
            "n 5\n",
            "Sa\n",
            "do 27 17 observe their custodial duties and act on Ms. Soriano’s behalf for purposes of providing her care\n",
            "r\n",
            "o\n",
            "G\n",
            "18\n",
            "and assistance to meet her daily living and health and safety needs. Id. Plaintiffs further allege:\n",
            "19\n",
            "71. Defendants accepted Ms. Soriano as a resident, accepted her trust\n",
            "20 and confidence, and accepted the fiduciary relationship which was then and there\n",
            "created.\n",
            "21 72. By virtue of the relationship between Ms. Soriano and defendants,\n",
            "a fiduciary duty existed relating to the care, comfort, safety, and health of Ms.\n",
            "22\n",
            "Soriano and the disposition and use of money paid on behalf of Ms. Soriano for\n",
            "her proper care. Pursuant to their duty, defendants owed the utmost good faith and\n",
            "23\n",
            "fairness to Ms. Soriano in all matters pertaining to her health, care, and comfort,\n",
            "24 and relatin\n"
          ]
        }
      ]
    },
    {
      "cell_type": "markdown",
      "source": [],
      "metadata": {
        "id": "KugJRA_fkq_o"
      }
    },
    {
      "cell_type": "code",
      "source": [
        "# Apply text formatting cleanup\n",
        "# I am extremely happy with these results\n",
        "soriano_demurrer_final = clean_text_formatting(soriano_demurrer_cleaned)\n",
        "\n",
        "# Print cleaned text preview\n",
        "print(\"\\nFinal Cleaned Soriano Demurrer Text:\\n\")\n",
        "print(soriano_demurrer_final[:2000])\n"
      ],
      "metadata": {
        "colab": {
          "base_uri": "https://localhost:8080/"
        },
        "id": "dyvI_ipuwdXR",
        "outputId": "76d86467-a114-4a3f-b273-cd922c75d4e2"
      },
      "execution_count": 173,
      "outputs": [
        {
          "output_type": "stream",
          "name": "stdout",
          "text": [
            "\n",
            "Final Cleaned Soriano Demurrer Text:\n",
            "\n",
            "INTRODUCTION With this motion, Defendants’ demurrer to Plaintiffs’ Fourth Cause of Action for Fraud (Constructive) and Sixth Cause of Action for Negligent Infliction of Emotional Distress. The areas of care Plaintiffs identify in their Complaint are a single fall experienced by decedent Consorcia Soriano, dehydration, malnutrition and pressure injuries. As demonstrated below, the demurrer should be sustained without leave to amend Plaintiffs’ Complaint because the 8 allegations are insufficient to maintain the causes of action against Defendants. 9 II. PLAINTIFF’S ALLEGATIONS A. Fraud Allegations P Plaintiffs’ Fraud (Constructive) Cause of Action is alleged by Consorcia Soriano by-andL L ani, 2000 12 through her successor-in- interest Estrellita Jotie. It is alleged that Ms. Soriano was dependent nsukh Suite A 941 13 upon Defendants for custodial care and meeting her daily living and health and safety needs y Ma reet, co, C 14 cull y St ncis when she resided at Greenfield Care Center from November 9, 2019 to December 25, 2021. Sra Rees Batte n Fr 16 Complaint ¶70. It is further alleged that Plaintiffs trusted Defendants to faithfully fulfill and n 5 Sa do 27 17 observe their custodial duties and act on Ms. Soriano’s behalf for purposes of providing her care r o G and assistance to meet her daily living and health and safety needs. Id. Plaintiffs further allege: 71. Defendants accepted Ms. Soriano as a resident, accepted her trust 20 and confidence, and accepted the fiduciary relationship which was then and there created. 21 72. By virtue of the relationship between Ms. Soriano and defendants, a fiduciary duty existed relating to the care, comfort, safety, and health of Ms. Soriano and the disposition and use of money paid on behalf of Ms. Soriano for her proper care. Pursuant to their duty, defendants owed the utmost good faith and fairness to Ms. Soriano in all matters pertaining to her health, care, and comfort, 24 and relating to use of the money paid on her beha\n"
          ]
        }
      ]
    },
    {
      "cell_type": "code",
      "source": [
        "# Step 1: Define the file path for Soriano Opposition\n",
        "soriano_opposition_path = \"/content/drive/My Drive/DataSet/Soriano - Demurrer to Complaint - Opposition (6-14-23).docx\"\n",
        "\n",
        "# Step 2: Extract text from the updated .docx file\n",
        "soriano_opposition_text = extract_text_from_file(soriano_opposition_path)\n",
        "\n",
        "# Step 3: Remove caption page (if any)\n",
        "start_keywords = [\"INTRODUCTION\", \"STATEMENT OF FACTS\", \"SUMMARY OF FACTUAL ALLEGATIONS\"]\n",
        "soriano_opposition_cleaned = remove_caption_page(soriano_opposition_text, start_keywords)\n",
        "\n",
        "# Step 4: Apply text cleanup formatting\n",
        "soriano_opposition_final = clean_text_formatting(soriano_opposition_cleaned)\n",
        "\n",
        "# Step 5: Print sample output to verify\n",
        "print(\"\\n✅ Final Cleaned Soriano Opposition Text (First 2000 characters):\\n\")\n",
        "print(soriano_opposition_final[:2000])\n"
      ],
      "metadata": {
        "colab": {
          "base_uri": "https://localhost:8080/"
        },
        "id": "k-iqtMNNNPQ6",
        "outputId": "01aef768-d052-485b-c0f9-301eef857298"
      },
      "execution_count": 174,
      "outputs": [
        {
          "output_type": "stream",
          "name": "stdout",
          "text": [
            "Error processing file /content/drive/My Drive/DataSet/Soriano - Demurrer to Complaint - Opposition (6-14-23).docx: file '/content/drive/My Drive/DataSet/Soriano - Demurrer to Complaint - Opposition (6-14-23).docx' is not a Word file, content type is 'application/vnd.openxmlformats-officedocument.themeManager+xml'\n",
            "\n",
            "✅ Final Cleaned Soriano Opposition Text (First 2000 characters):\n",
            "\n",
            "\n"
          ]
        }
      ]
    },
    {
      "cell_type": "markdown",
      "source": [
        "# 2/5/2025- Looks great/ cross referenced it and its exactly what I am looking for."
      ],
      "metadata": {
        "id": "FsgxqfCkRcmx"
      }
    },
    {
      "cell_type": "code",
      "source": [
        "# Caminho do arquivo\n",
        "oconnor_demurrer_file = \"/content/drive/My Drive/DataSet/O'Connor - Demurrer - Moving - P's & A's (6-18-24).pdf\"\n",
        "\n",
        "# 1️⃣ Extract test\n",
        "oconnor_demurrer_text = extract_text_from_file(oconnor_demurrer_file)\n",
        "\n",
        "# 2️⃣ Remover caption inicial\n",
        "oconnor_demurrer_cleaned = remove_caption_page(oconnor_demurrer_text, start_keywords)\n",
        "\n",
        "# 3️⃣ clean the format\n",
        "oconnor_demurrer_final = clean_text_formatting(oconnor_demurrer_cleaned)\n",
        "\n",
        "# 4️⃣ Save cleaned file\n",
        "save_cleaned_text(\"OConnor_Demurrer\", oconnor_demurrer_final, \"Demurrers\")\n"
      ],
      "metadata": {
        "colab": {
          "base_uri": "https://localhost:8080/"
        },
        "id": "YiCKST1ZcPt3",
        "outputId": "f32558de-8e87-45aa-e348-8e3607d1c8dc"
      },
      "execution_count": 175,
      "outputs": [
        {
          "output_type": "stream",
          "name": "stdout",
          "text": [
            "✅ Saved TXT: /content/drive/My Drive/Cleaned_Files/Demurrers/OConnor_Demurrer.txt\n",
            "✅ Saved JSON: /content/drive/My Drive/Cleaned_Files/Demurrers/OConnor_Demurrer.json\n"
          ]
        }
      ]
    },
    {
      "cell_type": "markdown",
      "source": [],
      "metadata": {
        "id": "qY1ze7ExdyPE"
      }
    },
    {
      "cell_type": "code",
      "source": [
        "import json\n",
        "import os\n",
        "\n",
        "def save_cleaned_text(case_name, cleaned_text, folder_name):\n",
        "    \"\"\"\n",
        "    Saves cleaned text in both .txt and .json formats in Google Drive.\n",
        "\n",
        "    Args:\n",
        "        case_name (str): The base name of the case file.\n",
        "        cleaned_text (str): The cleaned text extracted from the document.\n",
        "        folder_name (str): The subfolder ('Demurrers' or 'Oppositions') to save the file.\n",
        "\n",
        "    Returns:\n",
        "        None\n",
        "    \"\"\"\n",
        "    # Define Google Drive save path\n",
        "    drive_folder = f\"/content/drive/My Drive/Cleaned_Files/{folder_name}\"\n",
        "    os.makedirs(drive_folder, exist_ok=True)  # Ensure folder exists\n",
        "\n",
        "    # Define file paths\n",
        "    txt_file_path = os.path.join(drive_folder, f\"{case_name}.txt\")\n",
        "    json_file_path = os.path.join(drive_folder, f\"{case_name}.json\")\n",
        "\n",
        "    # Save as .txt\n",
        "    with open(txt_file_path, \"w\", encoding=\"utf-8\") as txt_file:\n",
        "        txt_file.write(cleaned_text)\n",
        "\n",
        "    # Save as .json\n",
        "    json_data = {\n",
        "        \"file_name\": \"Custodio - Demurrer to SAC - Moving - Ps & As (5-14-24)-OCR.pdf\",  # Updated filename\n",
        "        \"cleaned_text\": cleaned_text\n",
        "    }\n",
        "    with open(json_file_path, \"w\", encoding=\"utf-8\") as json_file:\n",
        "        json.dump(json_data, json_file, indent=4, ensure_ascii=False)\n",
        "\n",
        "    print(f\"✅ Saved TXT: {txt_file_path}\")\n",
        "    print(f\"✅ Saved JSON: {json_file_path}\")\n",
        "\n",
        "# Re-run saving process\n",
        "save_cleaned_text(\"Custodio_Demurrer\", custodio_demurrer_final, \"Demurrers\")\n"
      ],
      "metadata": {
        "colab": {
          "base_uri": "https://localhost:8080/"
        },
        "id": "jimzWPU4Xanx",
        "outputId": "28997c7b-d573-4300-9b4e-b00aa459ba06"
      },
      "execution_count": 176,
      "outputs": [
        {
          "output_type": "stream",
          "name": "stdout",
          "text": [
            "✅ Saved TXT: /content/drive/My Drive/Cleaned_Files/Demurrers/Custodio_Demurrer.txt\n",
            "✅ Saved JSON: /content/drive/My Drive/Cleaned_Files/Demurrers/Custodio_Demurrer.json\n"
          ]
        }
      ]
    },
    {
      "cell_type": "code",
      "source": [
        "import os\n",
        "\n",
        "# Define the path to the Cleaned_Files directory\n",
        "cleaned_files_path = \"/content/drive/My Drive/Cleaned_Files\"\n",
        "\n",
        "def list_cleaned_files(directory):\n",
        "    \"\"\"\n",
        "    Lists all files inside the given directory and its subdirectories.\n",
        "\n",
        "    Args:\n",
        "        directory (str): Path to the directory.\n",
        "\n",
        "    Returns:\n",
        "        None\n",
        "    \"\"\"\n",
        "    if not os.path.exists(directory):\n",
        "        print(f\"⚠️ The directory '{directory}' does not exist.\")\n",
        "        return\n",
        "\n",
        "    print(f\"\\n📂 Files in '{directory}':\")\n",
        "    for root, dirs, files in os.walk(directory):\n",
        "        print(f\"\\n📁 Folder: {root}\")\n",
        "        if files:\n",
        "            for file in files:\n",
        "                print(f\"   - {file}\")\n",
        "        else:\n",
        "            print(\"   (Empty folder)\")\n",
        "\n",
        "# Run the function to list all cleaned files\n",
        "list_cleaned_files(cleaned_files_path)\n"
      ],
      "metadata": {
        "colab": {
          "base_uri": "https://localhost:8080/"
        },
        "id": "Wq7GmwY5bRM9",
        "outputId": "64844102-483d-492f-8faf-28ef39913ee3"
      },
      "execution_count": 177,
      "outputs": [
        {
          "output_type": "stream",
          "name": "stdout",
          "text": [
            "\n",
            "📂 Files in '/content/drive/My Drive/Cleaned_Files':\n",
            "\n",
            "📁 Folder: /content/drive/My Drive/Cleaned_Files\n",
            "   (Empty folder)\n",
            "\n",
            "📁 Folder: /content/drive/My Drive/Cleaned_Files/Demurrers\n",
            "   - Custodio_Demurrer.txt\n",
            "   - Custodio_Demurrer.json\n",
            "   - Soriano_Demurrer.txt\n",
            "   - Soriano_Demurrer.json\n",
            "   - OConnor_Demurrer.txt\n",
            "   - OConnor_Demurrer.json\n",
            "\n",
            "📁 Folder: /content/drive/My Drive/Cleaned_Files/Oppositions\n",
            "   (Empty folder)\n"
          ]
        }
      ]
    },
    {
      "cell_type": "code",
      "source": [
        "import re\n",
        "\n",
        "def extract_argument_section(text):\n",
        "    \"\"\"\n",
        "    Extracts the 'ARGUMENT' section from a cleaned document.\n",
        "\n",
        "    Args:\n",
        "        text (str): The cleaned text of the document.\n",
        "\n",
        "    Returns:\n",
        "        str: The extracted 'ARGUMENT' section (if found) or an error message.\n",
        "    \"\"\"\n",
        "    # Define keywords to detect the ARGUMENT section boundaries\n",
        "    argument_start_keywords = [\"ARGUMENT\", \"LEGAL ARGUMENT\"]\n",
        "    argument_end_keywords = [\"CONCLUSION\", \"CONCLUSION AND PRAYER\"]\n",
        "\n",
        "    # Find where 'ARGUMENT' starts\n",
        "    start_index = None\n",
        "    for keyword in argument_start_keywords:\n",
        "        match = re.search(r'\\b' + re.escape(keyword) + r'\\b', text, re.IGNORECASE)\n",
        "        if match:\n",
        "            start_index = match.start()\n",
        "            break\n",
        "\n",
        "    # If 'ARGUMENT' is not found, return an error message\n",
        "    if start_index is None:\n",
        "        return \"⚠️ 'ARGUMENT' section not found in the document.\"\n",
        "\n",
        "    # Find where 'ARGUMENT' ends\n",
        "    end_index = None\n",
        "    for keyword in argument_end_keywords:\n",
        "        match = re.search(r'\\b' + re.escape(keyword) + r'\\b', text[start_index:], re.IGNORECASE)\n",
        "        if match:\n",
        "            end_index = start_index + match.start()\n",
        "            break\n",
        "\n",
        "    # Extract the argument text\n",
        "    if end_index:\n",
        "        argument_text = text[start_index:end_index]\n",
        "    else:\n",
        "        argument_text = text[start_index:]  # If no \"CONCLUSION\" is found, take everything after \"ARGUMENT\"\n",
        "\n",
        "    return argument_text.strip()\n"
      ],
      "metadata": {
        "id": "fDP0AgX9eNMV"
      },
      "execution_count": 178,
      "outputs": []
    },
    {
      "cell_type": "code",
      "source": [
        "# Extract ARGUMENT sections from cleaned demurrers\n",
        "custodio_argument = extract_argument_section(custodio_demurrer_final)\n",
        "soriano_argument = extract_argument_section(soriano_demurrer_final)\n",
        "oconnor_argument = extract_argument_section(oconnor_demurrer_final)\n",
        "\n",
        "# Save the extracted sections\n",
        "save_cleaned_text(\"Custodio_Argument\", custodio_argument, \"Arguments\")\n",
        "save_cleaned_text(\"Soriano_Argument\", soriano_argument, \"Arguments\")\n",
        "save_cleaned_text(\"OConnor_Argument\", oconnor_argument, \"Arguments\")\n"
      ],
      "metadata": {
        "colab": {
          "base_uri": "https://localhost:8080/"
        },
        "id": "5x7-YMRMejR6",
        "outputId": "c2b15ad2-e3de-4efa-8e5e-74ecc57a487f"
      },
      "execution_count": 179,
      "outputs": [
        {
          "output_type": "stream",
          "name": "stdout",
          "text": [
            "✅ Saved TXT: /content/drive/My Drive/Cleaned_Files/Arguments/Custodio_Argument.txt\n",
            "✅ Saved JSON: /content/drive/My Drive/Cleaned_Files/Arguments/Custodio_Argument.json\n",
            "✅ Saved TXT: /content/drive/My Drive/Cleaned_Files/Arguments/Soriano_Argument.txt\n",
            "✅ Saved JSON: /content/drive/My Drive/Cleaned_Files/Arguments/Soriano_Argument.json\n",
            "✅ Saved TXT: /content/drive/My Drive/Cleaned_Files/Arguments/OConnor_Argument.txt\n",
            "✅ Saved JSON: /content/drive/My Drive/Cleaned_Files/Arguments/OConnor_Argument.json\n"
          ]
        }
      ]
    },
    {
      "cell_type": "code",
      "source": [
        "def classify_document(file_name):\n",
        "    \"\"\"\n",
        "    Classifies a document as a demurrer or opposition based on filename.\n",
        "\n",
        "    Args:\n",
        "        file_name (str): The name of the file.\n",
        "\n",
        "    Returns:\n",
        "        str: \"Demurrer\", \"Opposition\", or \"Unknown\"\n",
        "    \"\"\"\n",
        "    file_lower = file_name.lower()\n",
        "    if \"demurrer\" in file_lower and \"opposition\" not in file_lower:\n",
        "        return \"Demurrer\"\n",
        "    elif \"opposition\" in file_lower:\n",
        "        return \"Opposition\"\n",
        "    else:\n",
        "        return \"Unknown\"\n"
      ],
      "metadata": {
        "id": "lWThUfq8gkAM"
      },
      "execution_count": 180,
      "outputs": []
    },
    {
      "cell_type": "code",
      "source": [
        "def process_legal_document(file_path, file_name):\n",
        "    \"\"\"\n",
        "    Processes a legal document, extracting and cleaning text, and saving the result.\n",
        "\n",
        "    Args:\n",
        "        file_path (str): Full path to the document.\n",
        "        file_name (str): The document filename.\n",
        "\n",
        "    Returns:\n",
        "        str: Status message (Success or Error)\n",
        "    \"\"\"\n",
        "    doc_type = classify_document(file_name)\n",
        "    if doc_type == \"Unknown\":\n",
        "        return f\"⚠️ Skipping {file_name} (not classified as Demurrer or Opposition).\"\n",
        "\n",
        "    try:\n",
        "        # Extract text\n",
        "        raw_text = extract_text_from_file(file_path)\n",
        "\n",
        "        # Remove caption page\n",
        "        cleaned_text = remove_caption_page(raw_text, start_keywords)\n",
        "\n",
        "        # Apply final cleanup\n",
        "        final_text = clean_text_formatting(cleaned_text)\n",
        "\n",
        "        # Save in the correct folder\n",
        "        save_cleaned_text(file_name.replace('.pdf', '').replace('.docx', ''), final_text, doc_type + \"s\")\n",
        "\n",
        "        return f\"✅ Processed & Saved: {file_name} ({doc_type})\"\n",
        "\n",
        "    except Exception as e:\n",
        "        return f\"❌ Error processing {file_name}: {e}\"\n"
      ],
      "metadata": {
        "id": "szlhBwLrgqG3"
      },
      "execution_count": 181,
      "outputs": []
    },
    {
      "cell_type": "code",
      "source": [
        "import os\n",
        "\n",
        "def process_all_legal_documents(dataset_path):\n",
        "    \"\"\"\n",
        "    Iterates through all files in the dataset folder and processes legal documents.\n",
        "\n",
        "    Args:\n",
        "        dataset_path (str): Path to the dataset folder.\n",
        "    \"\"\"\n",
        "    files = os.listdir(dataset_path)\n",
        "    print(f\"🔍 Found {len(files)} files in dataset.\")\n",
        "\n",
        "    for file_name in files:\n",
        "        if file_name.endswith(\".pdf\") or file_name.endswith(\".docx\"):\n",
        "            file_path = os.path.join(dataset_path, file_name)\n",
        "            status = process_legal_document(file_path, file_name)\n",
        "            print(status)\n",
        "\n",
        "# Run the batch processing\n",
        "process_all_legal_documents(dataset_path)\n"
      ],
      "metadata": {
        "colab": {
          "base_uri": "https://localhost:8080/"
        },
        "id": "jxl1cRR5hGoY",
        "outputId": "2d810fc3-6794-434a-96c4-b694d33011e8"
      },
      "execution_count": 182,
      "outputs": [
        {
          "output_type": "stream",
          "name": "stdout",
          "text": [
            "🔍 Found 72 files in dataset.\n",
            "⚠️ Skipping Wright - Complaint (8-17-15).pdf (not classified as Demurrer or Opposition).\n",
            "✅ Saved TXT: /content/drive/My Drive/Cleaned_Files/Demurrers/Wright - Demurrer (Brookside) (12-10-15).txt\n",
            "✅ Saved JSON: /content/drive/My Drive/Cleaned_Files/Demurrers/Wright - Demurrer (Brookside) (12-10-15).json\n",
            "✅ Processed & Saved: Wright - Demurrer (Brookside) (12-10-15).pdf (Demurrer)\n",
            "✅ Saved TXT: /content/drive/My Drive/Cleaned_Files/Oppositions/Wright - Demurrer - Opposition.txt\n",
            "✅ Saved JSON: /content/drive/My Drive/Cleaned_Files/Oppositions/Wright - Demurrer - Opposition.json\n",
            "✅ Processed & Saved: Wright - Demurrer - Opposition.pdf (Opposition)\n",
            "⚠️ Skipping Isherwood - Complaint - 2nd Amended (2-2-18).docx (not classified as Demurrer or Opposition).\n",
            "✅ Saved TXT: /content/drive/My Drive/Cleaned_Files/Demurrers/Isherwood - Demurrer to SAC - P's & A's (3-9-18).txt\n",
            "✅ Saved JSON: /content/drive/My Drive/Cleaned_Files/Demurrers/Isherwood - Demurrer to SAC - P's & A's (3-9-18).json\n",
            "✅ Processed & Saved: Isherwood - Demurrer to SAC - P's & A's (3-9-18).pdf (Demurrer)\n",
            "✅ Saved TXT: /content/drive/My Drive/Cleaned_Files/Demurrers/Davies - Demurrer (HWH Defs) (10-20-11) (1).txt\n",
            "✅ Saved JSON: /content/drive/My Drive/Cleaned_Files/Demurrers/Davies - Demurrer (HWH Defs) (10-20-11) (1).json\n",
            "✅ Processed & Saved: Davies - Demurrer (HWH Defs) (10-20-11) (1).pdf (Demurrer)\n",
            "✅ Saved TXT: /content/drive/My Drive/Cleaned_Files/Oppositions/Pastor - Demurrer to FAC (Defs) - Opposition (10-12-23).txt\n",
            "✅ Saved JSON: /content/drive/My Drive/Cleaned_Files/Oppositions/Pastor - Demurrer to FAC (Defs) - Opposition (10-12-23).json\n",
            "✅ Processed & Saved: Pastor - Demurrer to FAC (Defs) - Opposition (10-12-23).docx (Opposition)\n",
            "✅ Saved TXT: /content/drive/My Drive/Cleaned_Files/Demurrers/Boone - Demurrer to Complaint (8-1-16) (1).txt\n",
            "✅ Saved JSON: /content/drive/My Drive/Cleaned_Files/Demurrers/Boone - Demurrer to Complaint (8-1-16) (1).json\n",
            "✅ Processed & Saved: Boone - Demurrer to Complaint (8-1-16) (1).pdf (Demurrer)\n",
            "⚠️ Skipping Boone - Complaint - 1st Amended (11-14-16).pdf (not classified as Demurrer or Opposition).\n",
            "✅ Saved TXT: /content/drive/My Drive/Cleaned_Files/Oppositions/Boone - Demurrer to Complaint - Opposition (9-26-16).txt\n",
            "✅ Saved JSON: /content/drive/My Drive/Cleaned_Files/Oppositions/Boone - Demurrer to Complaint - Opposition (9-26-16).json\n",
            "✅ Processed & Saved: Boone - Demurrer to Complaint - Opposition (9-26-16).pdf (Opposition)\n",
            "⚠️ Skipping Butler - Complaint - FAC (12-10-19).pdf (not classified as Demurrer or Opposition).\n",
            "⚠️ Skipping Clark - Complaint (9-20-23).pdf (not classified as Demurrer or Opposition).\n",
            "⚠️ Skipping Custodio - Complaint - 2nd Amended (4-4-24).docx (not classified as Demurrer or Opposition).\n",
            "✅ Saved TXT: /content/drive/My Drive/Cleaned_Files/Demurrers/Custodio - Demurrer to SAC - Moving - P's & A's (5-14-24)-OCR.txt\n",
            "✅ Saved JSON: /content/drive/My Drive/Cleaned_Files/Demurrers/Custodio - Demurrer to SAC - Moving - P's & A's (5-14-24)-OCR.json\n",
            "✅ Processed & Saved: Custodio - Demurrer to SAC - Moving - P's & A's (5-14-24)-OCR.pdf (Demurrer)\n",
            "⚠️ Skipping DeGroff - Complaint (1-4-22).pdf (not classified as Demurrer or Opposition).\n",
            "✅ Saved TXT: /content/drive/My Drive/Cleaned_Files/Oppositions/Doe Cheryl - Demurrer to Complaint - Opposition (8-16-24).txt\n",
            "✅ Saved JSON: /content/drive/My Drive/Cleaned_Files/Oppositions/Doe Cheryl - Demurrer to Complaint - Opposition (8-16-24).json\n",
            "✅ Processed & Saved: Doe Cheryl - Demurrer to Complaint - Opposition (8-16-24).docx (Opposition)\n",
            "✅ Saved TXT: /content/drive/My Drive/Cleaned_Files/Demurrers/Doe Cheryl - Demurrer to Complaint - Moving - P's & A's (4-24-24)-OCR.txt\n",
            "✅ Saved JSON: /content/drive/My Drive/Cleaned_Files/Demurrers/Doe Cheryl - Demurrer to Complaint - Moving - P's & A's (4-24-24)-OCR.json\n",
            "✅ Processed & Saved: Doe Cheryl - Demurrer to Complaint - Moving - P's & A's (4-24-24)-OCR.pdf (Demurrer)\n",
            "⚠️ Skipping Doe, Cheryl - Complaint (2-2-24).pdf (not classified as Demurrer or Opposition).\n",
            "⚠️ Skipping Ferrari - Complaint - First Amended (filed 10-14-11).pdf (not classified as Demurrer or Opposition).\n",
            "✅ Saved TXT: /content/drive/My Drive/Cleaned_Files/Oppositions/Ferrari - Demurrer - Opposition - P's & A's -#2 (Vitas) (FILED 11-2-12).txt\n",
            "✅ Saved JSON: /content/drive/My Drive/Cleaned_Files/Oppositions/Ferrari - Demurrer - Opposition - P's & A's -#2 (Vitas) (FILED 11-2-12).json\n",
            "✅ Processed & Saved: Ferrari - Demurrer - Opposition - P's & A's -#2 (Vitas) (FILED 11-2-12).pdf (Opposition)\n",
            "✅ Saved TXT: /content/drive/My Drive/Cleaned_Files/Demurrers/Ferrari - Demurrer - SAC - P's & A's (Vitas) (6-19-12).txt\n",
            "✅ Saved JSON: /content/drive/My Drive/Cleaned_Files/Demurrers/Ferrari - Demurrer - SAC - P's & A's (Vitas) (6-19-12).json\n",
            "✅ Processed & Saved: Ferrari - Demurrer - SAC - P's & A's (Vitas) (6-19-12).pdf (Demurrer)\n",
            "⚠️ Skipping Morgan - Complaint - First Amended (9-13-10).pdf (not classified as Demurrer or Opposition).\n",
            "✅ Saved TXT: /content/drive/My Drive/Cleaned_Files/Demurrers/Moss - Demurrer - Notice and P&A to Third Amended Complaint (3-29-12).txt\n",
            "✅ Saved JSON: /content/drive/My Drive/Cleaned_Files/Demurrers/Moss - Demurrer - Notice and P&A to Third Amended Complaint (3-29-12).json\n",
            "✅ Processed & Saved: Moss - Demurrer - Notice and P&A to Third Amended Complaint (3-29-12).pdf (Demurrer)\n",
            "✅ Saved TXT: /content/drive/My Drive/Cleaned_Files/Demurrers/O'Connor - Demurrer - Moving - P's & A's (6-18-24).txt\n",
            "✅ Saved JSON: /content/drive/My Drive/Cleaned_Files/Demurrers/O'Connor - Demurrer - Moving - P's & A's (6-18-24).json\n",
            "✅ Processed & Saved: O'Connor - Demurrer - Moving - P's & A's (6-18-24).pdf (Demurrer)\n",
            "✅ Saved TXT: /content/drive/My Drive/Cleaned_Files/Demurrers/Reed - Demurrer (6-7-22).txt\n",
            "✅ Saved JSON: /content/drive/My Drive/Cleaned_Files/Demurrers/Reed - Demurrer (6-7-22).json\n",
            "✅ Processed & Saved: Reed - Demurrer (6-7-22).pdf (Demurrer)\n",
            "⚠️ Skipping Reed - Complaint (9-15-21).pdf (not classified as Demurrer or Opposition).\n",
            "✅ Saved TXT: /content/drive/My Drive/Cleaned_Files/Demurrers/Richardson - Demurrer to 2nd Amended Complaint - P's & A's (3-22-16).txt\n",
            "✅ Saved JSON: /content/drive/My Drive/Cleaned_Files/Demurrers/Richardson - Demurrer to 2nd Amended Complaint - P's & A's (3-22-16).json\n",
            "✅ Processed & Saved: Richardson - Demurrer to 2nd Amended Complaint - P's & A's (3-22-16).pdf (Demurrer)\n",
            "⚠️ Skipping Richardson - Complaint - 2nd Amended (12-18-15).pdf (not classified as Demurrer or Opposition).\n",
            "⚠️ Skipping Rios - Complaint - 1st Amended (6-27-22).docx (not classified as Demurrer or Opposition).\n",
            "✅ Saved TXT: /content/drive/My Drive/Cleaned_Files/Oppositions/Rios - Demurrer to FAC (Defs) - Opposition (8-2-22).txt\n",
            "✅ Saved JSON: /content/drive/My Drive/Cleaned_Files/Oppositions/Rios - Demurrer to FAC (Defs) - Opposition (8-2-22).json\n",
            "✅ Processed & Saved: Rios - Demurrer to FAC (Defs) - Opposition (8-2-22).docx (Opposition)\n",
            "✅ Saved TXT: /content/drive/My Drive/Cleaned_Files/Demurrers/Roby - Demurrer to FAC (Bristol) - P's & A's (5-15-14).txt\n",
            "✅ Saved JSON: /content/drive/My Drive/Cleaned_Files/Demurrers/Roby - Demurrer to FAC (Bristol) - P's & A's (5-15-14).json\n",
            "✅ Processed & Saved: Roby - Demurrer to FAC (Bristol) - P's & A's (5-15-14).pdf (Demurrer)\n",
            "⚠️ Skipping Roby - Complaint - 1st Amended (4-30-14).pdf (not classified as Demurrer or Opposition).\n",
            "⚠️ Skipping Tanner - Complaint (9-2-22).pdf (not classified as Demurrer or Opposition).\n",
            "⚠️ Skipping Tu - Complaint - 3rd Amended (2-4-22).pdf (not classified as Demurrer or Opposition).\n",
            "⚠️ Skipping Young - Complaint.pdf (not classified as Demurrer or Opposition).\n",
            "✅ Saved TXT: /content/drive/My Drive/Cleaned_Files/Demurrers/Young - Demurrer to FAC (DEFS) (10-9-15).txt\n",
            "✅ Saved JSON: /content/drive/My Drive/Cleaned_Files/Demurrers/Young - Demurrer to FAC (DEFS) (10-9-15).json\n",
            "✅ Processed & Saved: Young - Demurrer to FAC (DEFS) (10-9-15).pdf (Demurrer)\n",
            "⚠️ Skipping Zagon - Complaint - 2nd Amended (7-1-13) (1).pdf (not classified as Demurrer or Opposition).\n",
            "✅ Saved TXT: /content/drive/My Drive/Cleaned_Files/Demurrers/Zagon - Demurrer to FAC (Hazel Creek) - Ps&As (2-22-13).txt\n",
            "✅ Saved JSON: /content/drive/My Drive/Cleaned_Files/Demurrers/Zagon - Demurrer to FAC (Hazel Creek) - Ps&As (2-22-13).json\n",
            "✅ Processed & Saved: Zagon - Demurrer to FAC (Hazel Creek) - Ps&As (2-22-13).pdf (Demurrer)\n",
            "✅ Saved TXT: /content/drive/My Drive/Cleaned_Files/Oppositions/O_Connor - Demurrer - Opposition (7-17-24).txt\n",
            "✅ Saved JSON: /content/drive/My Drive/Cleaned_Files/Oppositions/O_Connor - Demurrer - Opposition (7-17-24).json\n",
            "✅ Processed & Saved: O_Connor - Demurrer - Opposition (7-17-24).docx (Opposition)\n",
            "⚠️ Skipping O_Connor - Complaint (4-5-24).docx (not classified as Demurrer or Opposition).\n",
            "✅ Saved TXT: /content/drive/My Drive/Cleaned_Files/Demurrers/Soriano - Demurrer to Complaint - Moving  - P_s & A_s (4-11-23).txt\n",
            "✅ Saved JSON: /content/drive/My Drive/Cleaned_Files/Demurrers/Soriano - Demurrer to Complaint - Moving  - P_s & A_s (4-11-23).json\n",
            "✅ Processed & Saved: Soriano - Demurrer to Complaint - Moving  - P_s & A_s (4-11-23).pdf (Demurrer)\n",
            "⚠️ Skipping Soriano - Complaint (12-6-22).docx (not classified as Demurrer or Opposition).\n",
            "✅ Saved TXT: /content/drive/My Drive/Cleaned_Files/Demurrers/Tanner - Demurrer to FAC - Moving (3-21-23).txt\n",
            "✅ Saved JSON: /content/drive/My Drive/Cleaned_Files/Demurrers/Tanner - Demurrer to FAC - Moving (3-21-23).json\n",
            "✅ Processed & Saved: Tanner - Demurrer to FAC - Moving (3-21-23).pdf (Demurrer)\n",
            "✅ Saved TXT: /content/drive/My Drive/Cleaned_Files/Oppositions/Tanner - Demurrer to FAC - Opposition (5-24-23).txt\n",
            "✅ Saved JSON: /content/drive/My Drive/Cleaned_Files/Oppositions/Tanner - Demurrer to FAC - Opposition (5-24-23).json\n",
            "✅ Processed & Saved: Tanner - Demurrer to FAC - Opposition (5-24-23).docx (Opposition)\n",
            "⚠️ Skipping Tu - Motion to Strike 4th Amended Complaint (Hafco) - Moving - P's & A's (10-28-22).pdf (not classified as Demurrer or Opposition).\n",
            "✅ Saved TXT: /content/drive/My Drive/Cleaned_Files/Oppositions/Richardson - demurrer - opposition - p's & a's (9-17-14).txt\n",
            "✅ Saved JSON: /content/drive/My Drive/Cleaned_Files/Oppositions/Richardson - demurrer - opposition - p's & a's (9-17-14).json\n",
            "✅ Processed & Saved: Richardson - demurrer - opposition - p's & a's (9-17-14).pdf (Opposition)\n",
            "✅ Saved TXT: /content/drive/My Drive/Cleaned_Files/Demurrers/Custodio - Opp to Demurrer(9-19-2023).txt\n",
            "✅ Saved JSON: /content/drive/My Drive/Cleaned_Files/Demurrers/Custodio - Opp to Demurrer(9-19-2023).json\n",
            "✅ Processed & Saved: Custodio - Opp to Demurrer(9-19-2023).docx (Demurrer)\n",
            "Error processing file /content/drive/My Drive/DataSet/Zagon - Demurrer - Hazel Creek Defendants - PsAs.docx: \"no relationship of type 'http://schemas.openxmlformats.org/officeDocument/2006/relationships/officeDocument' in collection\"\n",
            "✅ Saved TXT: /content/drive/My Drive/Cleaned_Files/Demurrers/Zagon - Demurrer - Hazel Creek Defendants - PsAs.txt\n",
            "✅ Saved JSON: /content/drive/My Drive/Cleaned_Files/Demurrers/Zagon - Demurrer - Hazel Creek Defendants - PsAs.json\n",
            "✅ Processed & Saved: Zagon - Demurrer - Hazel Creek Defendants - PsAs.docx (Demurrer)\n",
            "Error processing file /content/drive/My Drive/DataSet/Soriano - Demurrer to Complaint - Opposition (6-14-23).docx: file '/content/drive/My Drive/DataSet/Soriano - Demurrer to Complaint - Opposition (6-14-23).docx' is not a Word file, content type is 'application/vnd.openxmlformats-officedocument.themeManager+xml'\n",
            "✅ Saved TXT: /content/drive/My Drive/Cleaned_Files/Oppositions/Soriano - Demurrer to Complaint - Opposition (6-14-23).txt\n",
            "✅ Saved JSON: /content/drive/My Drive/Cleaned_Files/Oppositions/Soriano - Demurrer to Complaint - Opposition (6-14-23).json\n",
            "✅ Processed & Saved: Soriano - Demurrer to Complaint - Opposition (6-14-23).docx (Opposition)\n",
            "Error processing file /content/drive/My Drive/DataSet/Tu - Demurrer to 4th Amended Complaint (Hafco) - Opposition (11-16-22) (1).docx: file '/content/drive/My Drive/DataSet/Tu - Demurrer to 4th Amended Complaint (Hafco) - Opposition (11-16-22) (1).docx' is not a Word file, content type is 'application/vnd.openxmlformats-officedocument.themeManager+xml'\n",
            "✅ Saved TXT: /content/drive/My Drive/Cleaned_Files/Oppositions/Tu - Demurrer to 4th Amended Complaint (Hafco) - Opposition (11-16-22) (1).txt\n",
            "✅ Saved JSON: /content/drive/My Drive/Cleaned_Files/Oppositions/Tu - Demurrer to 4th Amended Complaint (Hafco) - Opposition (11-16-22) (1).json\n",
            "✅ Processed & Saved: Tu - Demurrer to 4th Amended Complaint (Hafco) - Opposition (11-16-22) (1).docx (Opposition)\n",
            "Error processing file /content/drive/My Drive/DataSet/Young - Demurrer To FAC (All DEFS) - Opposition (12-2-15).docx: file '/content/drive/My Drive/DataSet/Young - Demurrer To FAC (All DEFS) - Opposition (12-2-15).docx' is not a Word file, content type is 'application/vnd.openxmlformats-officedocument.themeManager+xml'\n",
            "✅ Saved TXT: /content/drive/My Drive/Cleaned_Files/Oppositions/Young - Demurrer To FAC (All DEFS) - Opposition (12-2-15).txt\n",
            "✅ Saved JSON: /content/drive/My Drive/Cleaned_Files/Oppositions/Young - Demurrer To FAC (All DEFS) - Opposition (12-2-15).json\n",
            "✅ Processed & Saved: Young - Demurrer To FAC (All DEFS) - Opposition (12-2-15).docx (Opposition)\n",
            "Error processing file /content/drive/My Drive/DataSet/Walters - Demurrer to Complaint - Opposition (5-13-21).docx: Package not found at '/content/drive/My Drive/DataSet/Walters - Demurrer to Complaint - Opposition (5-13-21).docx'\n",
            "✅ Saved TXT: /content/drive/My Drive/Cleaned_Files/Oppositions/Walters - Demurrer to Complaint - Opposition (5-13-21).txt\n",
            "✅ Saved JSON: /content/drive/My Drive/Cleaned_Files/Oppositions/Walters - Demurrer to Complaint - Opposition (5-13-21).json\n",
            "✅ Processed & Saved: Walters - Demurrer to Complaint - Opposition (5-13-21).docx (Opposition)\n",
            "Error processing file /content/drive/My Drive/DataSet/roby - demurrer to fac (bristol) - opposition - p's & a's (8-5-14).docx: file '/content/drive/My Drive/DataSet/roby - demurrer to fac (bristol) - opposition - p's & a's (8-5-14).docx' is not a Word file, content type is 'application/vnd.openxmlformats-officedocument.themeManager+xml'\n",
            "✅ Saved TXT: /content/drive/My Drive/Cleaned_Files/Oppositions/roby - demurrer to fac (bristol) - opposition - p's & a's (8-5-14).txt\n",
            "✅ Saved JSON: /content/drive/My Drive/Cleaned_Files/Oppositions/roby - demurrer to fac (bristol) - opposition - p's & a's (8-5-14).json\n",
            "✅ Processed & Saved: roby - demurrer to fac (bristol) - opposition - p's & a's (8-5-14).docx (Opposition)\n",
            "Error processing file /content/drive/My Drive/DataSet/Isherwood - Demurrer to SAC- Opposition (AJC) (4-4-18).docx: file '/content/drive/My Drive/DataSet/Isherwood - Demurrer to SAC- Opposition (AJC) (4-4-18).docx' is not a Word file, content type is 'application/vnd.openxmlformats-officedocument.themeManager+xml'\n",
            "✅ Saved TXT: /content/drive/My Drive/Cleaned_Files/Oppositions/Isherwood - Demurrer to SAC- Opposition (AJC) (4-4-18).txt\n",
            "✅ Saved JSON: /content/drive/My Drive/Cleaned_Files/Oppositions/Isherwood - Demurrer to SAC- Opposition (AJC) (4-4-18).json\n",
            "✅ Processed & Saved: Isherwood - Demurrer to SAC- Opposition (AJC) (4-4-18).docx (Opposition)\n",
            "✅ Saved TXT: /content/drive/My Drive/Cleaned_Files/Oppositions/richardson - demurrer - opposition - p's & a's (9-17-14).txt\n",
            "✅ Saved JSON: /content/drive/My Drive/Cleaned_Files/Oppositions/richardson - demurrer - opposition - p's & a's (9-17-14).json\n",
            "✅ Processed & Saved: richardson - demurrer - opposition - p's & a's (9-17-14).pdf (Opposition)\n",
            "⚠️ Skipping Perner - Complaint (First Amended).docx (not classified as Demurrer or Opposition).\n",
            "Error processing file /content/drive/My Drive/DataSet/Perner - D's Demurrer To First Amended Complaint - P's & A's In Opposition.docx: Package not found at '/content/drive/My Drive/DataSet/Perner - D's Demurrer To First Amended Complaint - P's & A's In Opposition.docx'\n",
            "✅ Saved TXT: /content/drive/My Drive/Cleaned_Files/Oppositions/Perner - D's Demurrer To First Amended Complaint - P's & A's In Opposition.txt\n",
            "✅ Saved JSON: /content/drive/My Drive/Cleaned_Files/Oppositions/Perner - D's Demurrer To First Amended Complaint - P's & A's In Opposition.json\n",
            "✅ Processed & Saved: Perner - D's Demurrer To First Amended Complaint - P's & A's In Opposition.docx (Opposition)\n",
            "Error processing file /content/drive/My Drive/DataSet/richardson - demurrer - opposition - p's & a's (9-17-14).docx: file '/content/drive/My Drive/DataSet/richardson - demurrer - opposition - p's & a's (9-17-14).docx' is not a Word file, content type is 'application/vnd.openxmlformats-officedocument.themeManager+xml'\n",
            "✅ Saved TXT: /content/drive/My Drive/Cleaned_Files/Oppositions/richardson - demurrer - opposition - p's & a's (9-17-14).txt\n",
            "✅ Saved JSON: /content/drive/My Drive/Cleaned_Files/Oppositions/richardson - demurrer - opposition - p's & a's (9-17-14).json\n",
            "✅ Processed & Saved: richardson - demurrer - opposition - p's & a's (9-17-14).docx (Opposition)\n",
            "⚠️ Skipping moss - complaint - third amended.docx (not classified as Demurrer or Opposition).\n",
            "Error processing file /content/drive/My Drive/DataSet/moss - demurrer - burbank defendants - opposition.docx: file '/content/drive/My Drive/DataSet/moss - demurrer - burbank defendants - opposition.docx' is not a Word file, content type is 'application/vnd.openxmlformats-officedocument.themeManager+xml'\n",
            "✅ Saved TXT: /content/drive/My Drive/Cleaned_Files/Oppositions/moss - demurrer - burbank defendants - opposition.txt\n",
            "✅ Saved JSON: /content/drive/My Drive/Cleaned_Files/Oppositions/moss - demurrer - burbank defendants - opposition.json\n",
            "✅ Processed & Saved: moss - demurrer - burbank defendants - opposition.docx (Opposition)\n",
            "Error processing file /content/drive/My Drive/DataSet/hong - demurrer - opposition.docx: file '/content/drive/My Drive/DataSet/hong - demurrer - opposition.docx' is not a Word file, content type is 'application/vnd.openxmlformats-officedocument.themeManager+xml'\n",
            "✅ Saved TXT: /content/drive/My Drive/Cleaned_Files/Oppositions/hong - demurrer - opposition.txt\n",
            "✅ Saved JSON: /content/drive/My Drive/Cleaned_Files/Oppositions/hong - demurrer - opposition.json\n",
            "✅ Processed & Saved: hong - demurrer - opposition.docx (Opposition)\n",
            "⚠️ Skipping Gordon - Complaint (First Amended).docx (not classified as Demurrer or Opposition).\n",
            "Error processing file /content/drive/My Drive/DataSet/Gordon - Demurrer & Motion To Strike to 2nd Amended Complaint - Roseville Care - P's & A's In Opposition.docx: Package not found at '/content/drive/My Drive/DataSet/Gordon - Demurrer & Motion To Strike to 2nd Amended Complaint - Roseville Care - P's & A's In Opposition.docx'\n",
            "✅ Saved TXT: /content/drive/My Drive/Cleaned_Files/Oppositions/Gordon - Demurrer & Motion To Strike to 2nd Amended Complaint - Roseville Care - P's & A's In Opposition.txt\n",
            "✅ Saved JSON: /content/drive/My Drive/Cleaned_Files/Oppositions/Gordon - Demurrer & Motion To Strike to 2nd Amended Complaint - Roseville Care - P's & A's In Opposition.json\n",
            "✅ Processed & Saved: Gordon - Demurrer & Motion To Strike to 2nd Amended Complaint - Roseville Care - P's & A's In Opposition.docx (Opposition)\n",
            "✅ Saved TXT: /content/drive/My Drive/Cleaned_Files/Oppositions/Higgs - Demurrer to TAC - Opposition - POS (6-29-22).txt\n",
            "✅ Saved JSON: /content/drive/My Drive/Cleaned_Files/Oppositions/Higgs - Demurrer to TAC - Opposition - POS (6-29-22).json\n",
            "✅ Processed & Saved: Higgs - Demurrer to TAC - Opposition - POS (6-29-22).docx (Opposition)\n",
            "Error processing file /content/drive/My Drive/DataSet/ferrari - demurrer - north american - opposition - psas.docx: file '/content/drive/My Drive/DataSet/ferrari - demurrer - north american - opposition - psas.docx' is not a Word file, content type is 'application/vnd.openxmlformats-officedocument.themeManager+xml'\n",
            "✅ Saved TXT: /content/drive/My Drive/Cleaned_Files/Oppositions/ferrari - demurrer - north american - opposition - psas.txt\n",
            "✅ Saved JSON: /content/drive/My Drive/Cleaned_Files/Oppositions/ferrari - demurrer - north american - opposition - psas.json\n",
            "✅ Processed & Saved: ferrari - demurrer - north american - opposition - psas.docx (Opposition)\n",
            "Error processing file /content/drive/My Drive/DataSet/fugazi - demurrer - opposition - ps & as.docx: file '/content/drive/My Drive/DataSet/fugazi - demurrer - opposition - ps & as.docx' is not a Word file, content type is 'application/vnd.openxmlformats-officedocument.themeManager+xml'\n",
            "✅ Saved TXT: /content/drive/My Drive/Cleaned_Files/Oppositions/fugazi - demurrer - opposition - ps & as.txt\n",
            "✅ Saved JSON: /content/drive/My Drive/Cleaned_Files/Oppositions/fugazi - demurrer - opposition - ps & as.json\n",
            "✅ Processed & Saved: fugazi - demurrer - opposition - ps & as.docx (Opposition)\n",
            "Error processing file /content/drive/My Drive/DataSet/davies - demurrer - kaiser - opposition - p's & a's.docx: file '/content/drive/My Drive/DataSet/davies - demurrer - kaiser - opposition - p's & a's.docx' is not a Word file, content type is 'application/vnd.openxmlformats-officedocument.themeManager+xml'\n",
            "✅ Saved TXT: /content/drive/My Drive/Cleaned_Files/Oppositions/davies - demurrer - kaiser - opposition - p's & a's.txt\n",
            "✅ Saved JSON: /content/drive/My Drive/Cleaned_Files/Oppositions/davies - demurrer - kaiser - opposition - p's & a's.json\n",
            "✅ Processed & Saved: davies - demurrer - kaiser - opposition - p's & a's.docx (Opposition)\n",
            "⚠️ Skipping davies - complaint - first amended.docx (not classified as Demurrer or Opposition).\n",
            "Error processing file /content/drive/My Drive/DataSet/davies - demurrer - opposition - p's & a's.docx: file '/content/drive/My Drive/DataSet/davies - demurrer - opposition - p's & a's.docx' is not a Word file, content type is 'application/vnd.openxmlformats-officedocument.themeManager+xml'\n",
            "✅ Saved TXT: /content/drive/My Drive/Cleaned_Files/Oppositions/davies - demurrer - opposition - p's & a's.txt\n",
            "✅ Saved JSON: /content/drive/My Drive/Cleaned_Files/Oppositions/davies - demurrer - opposition - p's & a's.json\n",
            "✅ Processed & Saved: davies - demurrer - opposition - p's & a's.docx (Opposition)\n",
            "✅ Saved TXT: /content/drive/My Drive/Cleaned_Files/Demurrers/Custodio - Demurrer to SAC - Moving - Ps & As (5-14-24)-OCR.txt\n",
            "✅ Saved JSON: /content/drive/My Drive/Cleaned_Files/Demurrers/Custodio - Demurrer to SAC - Moving - Ps & As (5-14-24)-OCR.json\n",
            "✅ Processed & Saved: Custodio - Demurrer to SAC - Moving - Ps & As (5-14-24)-OCR.pdf (Demurrer)\n"
          ]
        }
      ]
    },
    {
      "cell_type": "markdown",
      "source": [
        "## looks overall good when manually checked it but somehow included the TOC and POS. Will start there tomorrow. And read side by side with the original brief to be sure that all relevant parts were caught and figure out how to omit the TOC and POS. Then move on to the complaints."
      ],
      "metadata": {
        "id": "IV2bs6TVktRh"
      }
    },
    {
      "cell_type": "code",
      "source": [],
      "metadata": {
        "id": "qhwVnlNllID7"
      },
      "execution_count": null,
      "outputs": []
    }
  ]
}